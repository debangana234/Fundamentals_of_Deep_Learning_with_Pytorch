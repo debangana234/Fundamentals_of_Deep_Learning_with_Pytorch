{
  "nbformat": 4,
  "nbformat_minor": 0,
  "metadata": {
    "colab": {
      "provenance": [],
      "gpuType": "T4"
    },
    "kernelspec": {
      "name": "python3",
      "display_name": "Python 3"
    },
    "language_info": {
      "name": "python"
    },
    "accelerator": "GPU"
  },
  "cells": [
    {
      "cell_type": "code",
      "source": [
        "import torch\n",
        "import numpy as np\n",
        "import matplotlib.pyplot as plt\n"
      ],
      "metadata": {
        "id": "Ww-pjNuo63Zb"
      },
      "execution_count": 26,
      "outputs": []
    },
    {
      "cell_type": "code",
      "execution_count": 27,
      "metadata": {
        "colab": {
          "base_uri": "https://localhost:8080/"
        },
        "id": "LHz7WZcK2gBC",
        "outputId": "5957b5b9-e7c6-42f1-d228-53847d303ef6"
      },
      "outputs": [
        {
          "output_type": "stream",
          "name": "stdout",
          "text": [
            "torch.Size([50])\n",
            "torch.Size([50, 1])\n"
          ]
        },
        {
          "output_type": "execute_result",
          "data": {
            "text/plain": [
              "(tensor([0.0000, 0.0200, 0.0400, 0.0600, 0.0800, 0.1000, 0.1200, 0.1400, 0.1600,\n",
              "         0.1800]),\n",
              " tensor([0.3000, 0.3140, 0.3280, 0.3420, 0.3560, 0.3700, 0.3840, 0.3980, 0.4120,\n",
              "         0.4260]))"
            ]
          },
          "metadata": {},
          "execution_count": 27
        }
      ],
      "source": [
        "weight = 0.7\n",
        "bias = 0.3\n",
        "start = 0\n",
        "end = 1\n",
        "step = 0.02\n",
        "X = torch.arange(start,end,step)\n",
        "print(X.size())\n",
        "X1 = X.unsqueeze(dim =1)\n",
        "print(X1.size())\n",
        "\n",
        "y = weight * X + bias\n",
        "X[:10],y[:10]\n"
      ]
    },
    {
      "cell_type": "code",
      "source": [
        "len(X) , len(y)"
      ],
      "metadata": {
        "colab": {
          "base_uri": "https://localhost:8080/"
        },
        "id": "u3ZYhjKI618t",
        "outputId": "492eaf4b-6952-41b5-d88a-eae2c84ac40f"
      },
      "execution_count": 28,
      "outputs": [
        {
          "output_type": "execute_result",
          "data": {
            "text/plain": [
              "(50, 50)"
            ]
          },
          "metadata": {},
          "execution_count": 28
        }
      ]
    },
    {
      "cell_type": "code",
      "source": [
        "###Splitting data into train and test sets\n",
        "train_split = int(0.8 * len(X))\n",
        "train_split\n",
        "X_train, y_train = X[:train_split], y[:train_split]\n",
        "X_test, y_test = X[train_split:], y[train_split:]\n",
        "len(X_train), len(y_train), len(X_test),len(y_test)"
      ],
      "metadata": {
        "colab": {
          "base_uri": "https://localhost:8080/"
        },
        "id": "cL8XTf4o8bhY",
        "outputId": "679ef603-47e5-4026-96e9-d0fc9adbca3f"
      },
      "execution_count": 29,
      "outputs": [
        {
          "output_type": "execute_result",
          "data": {
            "text/plain": [
              "(40, 40, 10, 10)"
            ]
          },
          "metadata": {},
          "execution_count": 29
        }
      ]
    },
    {
      "cell_type": "code",
      "source": [
        "def plot_predictions(train_data = X_train,\n",
        "                     train_labels = y_train,\n",
        "                     test_data = X_test,\n",
        "                     test_labels = y_test,\n",
        "                     predictions = None):\n",
        "    plt.figure(figsize=(10,7))\n",
        "    plt.scatter(train_data, train_labels, c = \"b\", s = 4, label = \"train_data\")\n",
        "    plt.scatter(test_data, test_labels, c = \"g\", s = 4, label = \"test_data\")\n",
        "    if predictions is not None:\n",
        "      plt.scatter(test_data, predictions, c = \"r\", s = 4, label = \"predictions\")\n",
        "    plt.legend(prop={\"size\": 14});\n",
        "\n",
        "plot_predictions(X_train,y_train,X_test,y_test);"
      ],
      "metadata": {
        "colab": {
          "base_uri": "https://localhost:8080/",
          "height": 599
        },
        "id": "SuoUm8Cx27kw",
        "outputId": "75c36a82-317e-43c1-ca1f-231096aede9e"
      },
      "execution_count": 30,
      "outputs": [
        {
          "output_type": "display_data",
          "data": {
            "text/plain": [
              "<Figure size 1000x700 with 1 Axes>"
            ],
            "image/png": "[encoded data removed]"
          },
          "metadata": {}
        }
      ]
    },
    {
      "cell_type": "code",
      "source": [
        "###Imnplementing neural networks without torch.NN\n",
        "torch.manual_seed(42)\n",
        "###define the layers\n",
        "input_size = 2\n",
        "hidden_size = 4\n",
        "output_size = 1\n",
        "###weights and bias tensors\n",
        "weight1 = torch.randn(input_size,hidden_size, requires_grad = True)\n",
        "bias1 = torch.randn(1, hidden_size, requires_grad = True)\n",
        "weight2 = torch.randn(hidden_size, output_size, requires_grad = True)\n",
        "bias2 = torch.randn(1, output_size, requires_grad = True)\n",
        "def forward(x:torch.Tensor):\n",
        "  activation = torch.sigmoid(x @ weight1 + bias1)\n",
        "  output = activation @ weight2 + bias2\n",
        "  return output\n",
        "x = torch.randn(5,2)\n",
        "print(x)\n",
        "output = forward(x)\n",
        "print(output)"
      ],
      "metadata": {
        "colab": {
          "base_uri": "https://localhost:8080/"
        },
        "id": "ESjGLEbDQ_-r",
        "outputId": "4034856f-2c74-403b-9d8f-5a7b832f8dd4"
      },
      "execution_count": 31,
      "outputs": [
        {
          "output_type": "stream",
          "name": "stdout",
          "text": [
            "tensor([[ 0.8172, -0.7658],\n",
            "        [-0.7506,  1.3525],\n",
            "        [ 0.6863, -0.3278],\n",
            "        [ 0.7950,  0.2815],\n",
            "        [ 0.0562,  0.5227]])\n",
            "tensor([[1.6958],\n",
            "        [0.2172],\n",
            "        [1.3730],\n",
            "        [0.8919],\n",
            "        [0.6855]], grad_fn=<AddBackward0>)\n"
          ]
        }
      ]
    },
    {
      "cell_type": "code",
      "source": [
        "###building the model using Pytorch\n",
        "from torch import nn\n",
        "class linearRegressionModel(nn.Module):\n",
        "  def __init__(self, weights, bias):\n",
        "    super().__init__()\n",
        "    self.weights = nn.Parameter(torch.randn(1,\n",
        "                                            requires_grad=True,\n",
        "                                            dtype=torch.float))\n",
        "    self.bias = nn.Parameter(torch.randn(1,\n",
        "                                         requires_grad=True,\n",
        "                                         dtype=torch.float))\n",
        "  def forward(self,x:torch.Tensor)->torch.Tensor:\n",
        "    return self.weights * x + self.bias\n"
      ],
      "metadata": {
        "id": "Y0-GgIwQCE1X"
      },
      "execution_count": 32,
      "outputs": []
    },
    {
      "cell_type": "code",
      "source": [
        "###check the contents of Pytorch module\n",
        "torch.manual_seed(42)\n",
        "###creating an instance of the created model\n",
        "weights = torch.randn (2,4)\n",
        "biass = torch.randn(4)\n",
        "model_0 = linearRegressionModel(weights, biass)\n",
        "list(model_0.parameters())\n",
        "###name the parameters\n",
        "model_0.state_dict()"
      ],
      "metadata": {
        "colab": {
          "base_uri": "https://localhost:8080/"
        },
        "id": "CN-WYmGw3MYC",
        "outputId": "fb50d14a-b6a2-49fc-883b-52c65a5fa058"
      },
      "execution_count": 33,
      "outputs": [
        {
          "output_type": "execute_result",
          "data": {
            "text/plain": [
              "OrderedDict([('weights', tensor([1.1103])), ('bias', tensor([-1.6898]))])"
            ]
          },
          "metadata": {},
          "execution_count": 33
        }
      ]
    },
    {
      "cell_type": "code",
      "source": [
        "weight, bias\n",
        "X_test"
      ],
      "metadata": {
        "colab": {
          "base_uri": "https://localhost:8080/"
        },
        "id": "qgz3IOki9W9z",
        "outputId": "84f0ea93-5b37-4211-d4d0-3809acaf0f98"
      },
      "execution_count": 35,
      "outputs": [
        {
          "output_type": "execute_result",
          "data": {
            "text/plain": [
              "tensor([0.8000, 0.8200, 0.8400, 0.8600, 0.8800, 0.9000, 0.9200, 0.9400, 0.9600,\n",
              "        0.9800])"
            ]
          },
          "metadata": {},
          "execution_count": 35
        }
      ]
    },
    {
      "cell_type": "code",
      "source": [
        "###making predictions on data to check the loss functions generated by the weights and biases\n",
        "###prediction of y_test based on X_test\n",
        "with torch.inference_mode():\n",
        "  y_preds = model_0(X_test)\n",
        "y_preds\n",
        "\n"
      ],
      "metadata": {
        "colab": {
          "base_uri": "https://localhost:8080/"
        },
        "id": "hI2bbitN97u6",
        "outputId": "2d434143-adc1-42b0-e701-340ada969c29"
      },
      "execution_count": 37,
      "outputs": [
        {
          "output_type": "execute_result",
          "data": {
            "text/plain": [
              "tensor([-0.8016, -0.7794, -0.7572, -0.7349, -0.7127, -0.6905, -0.6683, -0.6461,\n",
              "        -0.6239, -0.6017])"
            ]
          },
          "metadata": {},
          "execution_count": 37
        }
      ]
    },
    {
      "cell_type": "code",
      "source": [
        "plot_predictions(y_test,y_preds)"
      ],
      "metadata": {
        "colab": {
          "base_uri": "https://localhost:8080/",
          "height": 599
        },
        "id": "IeRL0Prh_j5T",
        "outputId": "f114feb0-11b0-4d63-c22d-18f4aebf1405"
      },
      "execution_count": 38,
      "outputs": [
        {
          "output_type": "display_data",
          "data": {
            "text/plain": [
              "<Figure size 1000x700 with 1 Axes>"
            ],
            "image/png": "[encoded data removed]"
          },
          "metadata": {}
        }
      ]
    }
  ]
}