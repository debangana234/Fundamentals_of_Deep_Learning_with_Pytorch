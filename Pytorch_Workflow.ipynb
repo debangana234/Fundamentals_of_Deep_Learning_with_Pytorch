{
  "cells": [
    {
      "cell_type": "code",
      "execution_count": 207,
      "metadata": {
        "id": "Ww-pjNuo63Zb"
      },
      "outputs": [],
      "source": [
        "import torch\n",
        "import numpy as np\n",
        "import matplotlib.pyplot as plt\n"
      ]
    },
    {
      "cell_type": "code",
      "execution_count": 208,
      "metadata": {
        "colab": {
          "base_uri": "https://localhost:8080/"
        },
        "id": "LHz7WZcK2gBC",
        "outputId": "2c6c26e9-9e57-438a-a76f-0de6e6371cce"
      },
      "outputs": [
        {
          "name": "stdout",
          "output_type": "stream",
          "text": [
            "torch.Size([50])\n",
            "torch.Size([50, 1])\n"
          ]
        },
        {
          "data": {
            "text/plain": [
              "(tensor([0.0000, 0.0200, 0.0400, 0.0600, 0.0800, 0.1000, 0.1200, 0.1400, 0.1600,\n",
              "         0.1800]),\n",
              " tensor([0.3000, 0.3140, 0.3280, 0.3420, 0.3560, 0.3700, 0.3840, 0.3980, 0.4120,\n",
              "         0.4260]))"
            ]
          },
          "execution_count": 208,
          "metadata": {},
          "output_type": "execute_result"
        }
      ],
      "source": [
        "weight = 0.7\n",
        "bias = 0.3\n",
        "start = 0\n",
        "end = 1\n",
        "step = 0.02\n",
        "X = torch.arange(start,end,step)\n",
        "print(X.size())\n",
        "X1 = X.unsqueeze(dim =1)\n",
        "print(X1.size())\n",
        "\n",
        "y = weight * X + bias\n",
        "X[:10],y[:10]\n"
      ]
    },
    {
      "cell_type": "code",
      "execution_count": 209,
      "metadata": {
        "colab": {
          "base_uri": "https://localhost:8080/"
        },
        "id": "u3ZYhjKI618t",
        "outputId": "6cd07654-6809-451b-9ce7-5108fa3e3c96"
      },
      "outputs": [
        {
          "data": {
            "text/plain": [
              "(50, 50)"
            ]
          },
          "execution_count": 209,
          "metadata": {},
          "output_type": "execute_result"
        }
      ],
      "source": [
        "len(X) , len(y)"
      ]
    },
    {
      "cell_type": "code",
      "execution_count": 210,
      "metadata": {
        "colab": {
          "base_uri": "https://localhost:8080/"
        },
        "id": "cL8XTf4o8bhY",
        "outputId": "cd91d97f-70a5-4938-ce04-0720fbe64c55"
      },
      "outputs": [
        {
          "data": {
            "text/plain": [
              "(40, 40, 10, 10)"
            ]
          },
          "execution_count": 210,
          "metadata": {},
          "output_type": "execute_result"
        }
      ],
      "source": [
        "###Splitting data into train and test sets\n",
        "train_split = int(0.8 * len(X))\n",
        "train_split\n",
        "X_train, y_train = X[:train_split], y[:train_split]\n",
        "X_test, y_test = X[train_split:], y[train_split:]\n",
        "len(X_train), len(y_train), len(X_test),len(y_test)"
      ]
    },
    {
      "cell_type": "code",
      "execution_count": 211,
      "metadata": {
        "colab": {
          "base_uri": "https://localhost:8080/",
          "height": 599
        },
        "id": "SuoUm8Cx27kw",
        "outputId": "bd8a3520-a281-46c0-ca7f-6da11d102e9b"
      },
      "outputs": [
        {
          "data": {
            "image/png": "[encoded data removed]",
            "text/plain": [
              "<Figure size 1000x700 with 1 Axes>"
            ]
          },
          "metadata": {},
          "output_type": "display_data"
        }
      ],
      "source": [
        "def plot_predictions(train_data = X_train,\n",
        "                     train_labels = y_train,\n",
        "                     test_data = X_test,\n",
        "                     test_labels = y_test,\n",
        "                     predictions = None):\n",
        "    plt.figure(figsize=(10,7))\n",
        "    plt.scatter(train_data, train_labels, c = \"b\", s = 4, label = \"train_data\")\n",
        "    plt.scatter(test_data, test_labels, c = \"g\", s = 4, label = \"test_data\")\n",
        "    if predictions is not None:\n",
        "      plt.scatter(test_data, predictions, c = \"r\", s = 4, label = \"predictions\")\n",
        "    plt.legend(prop={\"size\": 14});\n",
        "\n",
        "plot_predictions(X_train,y_train,X_test,y_test);"
      ]
    },
    {
      "cell_type": "code",
      "execution_count": 212,
      "metadata": {
        "colab": {
          "base_uri": "https://localhost:8080/"
        },
        "id": "ESjGLEbDQ_-r",
        "outputId": "650f72cd-ddb1-4e18-9a6a-79c1c6c0c5a0"
      },
      "outputs": [
        {
          "name": "stdout",
          "output_type": "stream",
          "text": [
            "tensor([[ 0.8172, -0.7658],\n",
            "        [-0.7506,  1.3525],\n",
            "        [ 0.6863, -0.3278],\n",
            "        [ 0.7950,  0.2815],\n",
            "        [ 0.0562,  0.5227]])\n",
            "tensor([[1.6958],\n",
            "        [0.2172],\n",
            "        [1.3730],\n",
            "        [0.8919],\n",
            "        [0.6855]], grad_fn=<AddBackward0>)\n"
          ]
        }
      ],
      "source": [
        "###Imnplementing neural networks without torch.NN\n",
        "torch.manual_seed(42)\n",
        "###define the layers\n",
        "input_size = 2\n",
        "hidden_size = 4\n",
        "output_size = 1\n",
        "###weights and bias tensors\n",
        "weight1 = torch.randn(input_size,hidden_size, requires_grad = True)\n",
        "bias1 = torch.randn(1, hidden_size, requires_grad = True)\n",
        "weight2 = torch.randn(hidden_size, output_size, requires_grad = True)\n",
        "bias2 = torch.randn(1, output_size, requires_grad = True)\n",
        "def forward(x:torch.Tensor):\n",
        "  activation = torch.sigmoid(x @ weight1 + bias1)\n",
        "  output = activation @ weight2 + bias2\n",
        "  return output\n",
        "x = torch.randn(5,2)\n",
        "print(x)\n",
        "output = forward(x)\n",
        "print(output)"
      ]
    },
    {
      "cell_type": "code",
      "execution_count": 213,
      "metadata": {
        "id": "Y0-GgIwQCE1X"
      },
      "outputs": [],
      "source": [
        "###building the model using Pytorch\n",
        "from torch import nn\n",
        "class linearRegressionModel(nn.Module):\n",
        "  def __init__(self, weights, bias):\n",
        "    super().__init__()\n",
        "    self.weights = nn.Parameter(torch.randn(1,\n",
        "                                            requires_grad=True,\n",
        "                                            dtype=torch.float))\n",
        "    self.bias = nn.Parameter(torch.randn(1,\n",
        "                                         requires_grad=True,\n",
        "                                         dtype=torch.float))\n",
        "  def forward(self,x:torch.Tensor)->torch.Tensor:\n",
        "    return self.weights * x + self.bias\n"
      ]
    },
    {
      "cell_type": "code",
      "execution_count": 214,
      "metadata": {
        "colab": {
          "base_uri": "https://localhost:8080/"
        },
        "id": "CN-WYmGw3MYC",
        "outputId": "df410d3a-0bf8-4908-f4ff-dac54ed9725d"
      },
      "outputs": [
        {
          "data": {
            "text/plain": [
              "OrderedDict([('weights', tensor([1.1103])), ('bias', tensor([-1.6898]))])"
            ]
          },
          "execution_count": 214,
          "metadata": {},
          "output_type": "execute_result"
        }
      ],
      "source": [
        "###check the contents of Pytorch module\n",
        "torch.manual_seed(42)\n",
        "###creating an instance of the created model\n",
        "weights = torch.randn (2,4)\n",
        "biass = torch.randn(4)\n",
        "model_0 = linearRegressionModel(weights, biass)\n",
        "list(model_0.parameters())\n",
        "###name the parameters\n",
        "model_0.state_dict()"
      ]
    },
    {
      "cell_type": "code",
      "execution_count": 215,
      "metadata": {
        "colab": {
          "base_uri": "https://localhost:8080/"
        },
        "id": "qgz3IOki9W9z",
        "outputId": "09d8fa88-2524-485c-c159-1f96cc10eb79"
      },
      "outputs": [
        {
          "data": {
            "text/plain": [
              "tensor([0.8000, 0.8200, 0.8400, 0.8600, 0.8800, 0.9000, 0.9200, 0.9400, 0.9600,\n",
              "        0.9800])"
            ]
          },
          "execution_count": 215,
          "metadata": {},
          "output_type": "execute_result"
        }
      ],
      "source": [
        "weight, bias\n",
        "X_test"
      ]
    },
    {
      "cell_type": "code",
      "execution_count": 216,
      "metadata": {
        "colab": {
          "base_uri": "https://localhost:8080/"
        },
        "id": "hI2bbitN97u6",
        "outputId": "672ff23c-4661-4be1-fcde-e4bd1cdc6ea1"
      },
      "outputs": [
        {
          "data": {
            "text/plain": [
              "tensor([-0.8016, -0.7794, -0.7572, -0.7349, -0.7127, -0.6905, -0.6683, -0.6461,\n",
              "        -0.6239, -0.6017])"
            ]
          },
          "execution_count": 216,
          "metadata": {},
          "output_type": "execute_result"
        }
      ],
      "source": [
        "###making predictions on data to check the loss functions generated by the weights and biases\n",
        "###prediction of y_test based on X_test\n",
        "with torch.inference_mode():\n",
        "  y_preds = model_0(X_test)\n",
        "y_preds\n",
        "\n"
      ]
    },
    {
      "cell_type": "code",
      "execution_count": 217,
      "metadata": {
        "colab": {
          "base_uri": "https://localhost:8080/",
          "height": 599
        },
        "id": "IeRL0Prh_j5T",
        "outputId": "a53b3a4b-1ab6-4331-95ac-095bf1bec234"
      },
      "outputs": [
        {
          "data": {
            "image/png": "[encoded data removed]",
            "text/plain": [
              "<Figure size 1000x700 with 1 Axes>"
            ]
          },
          "metadata": {},
          "output_type": "display_data"
        }
      ],
      "source": [
        "plot_predictions(y_test,y_preds)"
      ]
    },
    {
      "cell_type": "code",
      "execution_count": 218,
      "metadata": {
        "id": "58pimODWBj8H"
      },
      "outputs": [],
      "source": [
        "###The model performs poorly and the predicted points in the above plot seem far off from the y_labels of the test data.\n",
        "###The current weights and bias are not able to assign proper y_labels to the test data, therefore we need to update the weights and bias so that the accuracy of prediction is imporved\n",
        "###In order to improve the model, we must evaluate how poorly the model is currently behaving , therefore calculate the loss function\n",
        "loss_fn = nn.L1Loss()\n",
        "loss = loss_fn(y_preds,y_test)\n",
        "loss\n",
        "\n",
        "###set up an optimiser\n",
        "optimizer =torch.optim.SGD(params=model_0.parameters(),lr = 0.01)\n",
        "\n",
        "\n",
        "\n"
      ]
    },
    {
      "cell_type": "markdown",
      "metadata": {
        "id": "5ueySglQG-IY"
      },
      "source": [
        "Build a training loop and a testing loop\n",
        " Loop through data\n",
        " Forward pass to estimate weights and bias\n",
        " Calculate L1Loss\n",
        " Optimise weights and bias using Stochastic Gradient Descent\n",
        " Backpropogation\n",
        "\n",
        "\n",
        "\n",
        "\n",
        "---\n",
        "\n"
      ]
    },
    {
      "cell_type": "code",
      "execution_count": 219,
      "metadata": {
        "colab": {
          "base_uri": "https://localhost:8080/"
        },
        "collapsed": true,
        "id": "iwFau-vWHjDx",
        "outputId": "66f70e12-b2ab-4ade-b4e7-8f5cace2f863"
      },
      "outputs": [
        {
          "name": "stdout",
          "output_type": "stream",
          "text": [
            "Loss: 1.829785704612732\n",
            "OrderedDict({'weights': tensor([1.1142]), 'bias': tensor([-1.6798])})\n",
            "Loss: 1.8182647228240967\n",
            "OrderedDict({'weights': tensor([1.1181]), 'bias': tensor([-1.6698])})\n",
            "Loss: 1.8067436218261719\n",
            "OrderedDict({'weights': tensor([1.1220]), 'bias': tensor([-1.6598])})\n",
            "Loss: 1.7952226400375366\n",
            "OrderedDict({'weights': tensor([1.1259]), 'bias': tensor([-1.6498])})\n",
            "Loss: 1.7837016582489014\n",
            "OrderedDict({'weights': tensor([1.1298]), 'bias': tensor([-1.6398])})\n",
            "Loss: 1.7721807956695557\n",
            "OrderedDict({'weights': tensor([1.1337]), 'bias': tensor([-1.6298])})\n",
            "Loss: 1.7606595754623413\n",
            "OrderedDict({'weights': tensor([1.1376]), 'bias': tensor([-1.6198])})\n",
            "Loss: 1.749138593673706\n",
            "OrderedDict({'weights': tensor([1.1415]), 'bias': tensor([-1.6098])})\n",
            "Loss: 1.7376177310943604\n",
            "OrderedDict({'weights': tensor([1.1454]), 'bias': tensor([-1.5998])})\n",
            "Loss: 1.726096510887146\n",
            "OrderedDict({'weights': tensor([1.1493]), 'bias': tensor([-1.5898])})\n",
            "Loss: 1.7145757675170898\n",
            "OrderedDict({'weights': tensor([1.1532]), 'bias': tensor([-1.5798])})\n",
            "Loss: 1.7030547857284546\n",
            "OrderedDict({'weights': tensor([1.1571]), 'bias': tensor([-1.5698])})\n",
            "Loss: 1.6915336847305298\n",
            "OrderedDict({'weights': tensor([1.1610]), 'bias': tensor([-1.5598])})\n",
            "Loss: 1.6800127029418945\n",
            "OrderedDict({'weights': tensor([1.1649]), 'bias': tensor([-1.5498])})\n",
            "Loss: 1.6684916019439697\n",
            "OrderedDict({'weights': tensor([1.1688]), 'bias': tensor([-1.5398])})\n",
            "Loss: 1.6569706201553345\n",
            "OrderedDict({'weights': tensor([1.1727]), 'bias': tensor([-1.5298])})\n",
            "Loss: 1.6454496383666992\n",
            "OrderedDict({'weights': tensor([1.1766]), 'bias': tensor([-1.5198])})\n",
            "Loss: 1.6339285373687744\n",
            "OrderedDict({'weights': tensor([1.1805]), 'bias': tensor([-1.5098])})\n",
            "Loss: 1.6224075555801392\n",
            "OrderedDict({'weights': tensor([1.1844]), 'bias': tensor([-1.4998])})\n",
            "Loss: 1.610886573791504\n",
            "OrderedDict({'weights': tensor([1.1883]), 'bias': tensor([-1.4898])})\n",
            "Loss: 1.5993655920028687\n",
            "OrderedDict({'weights': tensor([1.1922]), 'bias': tensor([-1.4798])})\n",
            "Loss: 1.5878446102142334\n",
            "OrderedDict({'weights': tensor([1.1961]), 'bias': tensor([-1.4698])})\n",
            "Loss: 1.5763236284255981\n",
            "OrderedDict({'weights': tensor([1.2000]), 'bias': tensor([-1.4598])})\n",
            "Loss: 1.5648025274276733\n",
            "OrderedDict({'weights': tensor([1.2039]), 'bias': tensor([-1.4498])})\n",
            "Loss: 1.553281545639038\n",
            "OrderedDict({'weights': tensor([1.2078]), 'bias': tensor([-1.4398])})\n",
            "Loss: 1.5417605638504028\n",
            "OrderedDict({'weights': tensor([1.2117]), 'bias': tensor([-1.4298])})\n",
            "Loss: 1.530239462852478\n",
            "OrderedDict({'weights': tensor([1.2156]), 'bias': tensor([-1.4198])})\n",
            "Loss: 1.5187184810638428\n",
            "OrderedDict({'weights': tensor([1.2195]), 'bias': tensor([-1.4098])})\n",
            "Loss: 1.507197380065918\n",
            "OrderedDict({'weights': tensor([1.2234]), 'bias': tensor([-1.3998])})\n",
            "Loss: 1.4956763982772827\n",
            "OrderedDict({'weights': tensor([1.2273]), 'bias': tensor([-1.3898])})\n",
            "Loss: 1.4841554164886475\n",
            "OrderedDict({'weights': tensor([1.2312]), 'bias': tensor([-1.3798])})\n",
            "Loss: 1.4726345539093018\n",
            "OrderedDict({'weights': tensor([1.2351]), 'bias': tensor([-1.3698])})\n",
            "Loss: 1.461113452911377\n",
            "OrderedDict({'weights': tensor([1.2390]), 'bias': tensor([-1.3598])})\n",
            "Loss: 1.4495923519134521\n",
            "OrderedDict({'weights': tensor([1.2429]), 'bias': tensor([-1.3498])})\n",
            "Loss: 1.4380712509155273\n",
            "OrderedDict({'weights': tensor([1.2468]), 'bias': tensor([-1.3398])})\n",
            "Loss: 1.4265505075454712\n",
            "OrderedDict({'weights': tensor([1.2507]), 'bias': tensor([-1.3298])})\n",
            "Loss: 1.4150292873382568\n",
            "OrderedDict({'weights': tensor([1.2546]), 'bias': tensor([-1.3198])})\n",
            "Loss: 1.4035084247589111\n",
            "OrderedDict({'weights': tensor([1.2585]), 'bias': tensor([-1.3098])})\n",
            "Loss: 1.3919873237609863\n",
            "OrderedDict({'weights': tensor([1.2624]), 'bias': tensor([-1.2998])})\n",
            "Loss: 1.380466341972351\n",
            "OrderedDict({'weights': tensor([1.2663]), 'bias': tensor([-1.2898])})\n",
            "Loss: 1.3689453601837158\n",
            "OrderedDict({'weights': tensor([1.2702]), 'bias': tensor([-1.2798])})\n",
            "Loss: 1.357424259185791\n",
            "OrderedDict({'weights': tensor([1.2741]), 'bias': tensor([-1.2698])})\n",
            "Loss: 1.3459032773971558\n",
            "OrderedDict({'weights': tensor([1.2780]), 'bias': tensor([-1.2598])})\n",
            "Loss: 1.3343822956085205\n",
            "OrderedDict({'weights': tensor([1.2819]), 'bias': tensor([-1.2498])})\n",
            "Loss: 1.3228614330291748\n",
            "OrderedDict({'weights': tensor([1.2858]), 'bias': tensor([-1.2398])})\n",
            "Loss: 1.3113402128219604\n",
            "OrderedDict({'weights': tensor([1.2897]), 'bias': tensor([-1.2298])})\n",
            "Loss: 1.2998192310333252\n",
            "OrderedDict({'weights': tensor([1.2936]), 'bias': tensor([-1.2198])})\n",
            "Loss: 1.28829824924469\n",
            "OrderedDict({'weights': tensor([1.2975]), 'bias': tensor([-1.2098])})\n",
            "Loss: 1.2767772674560547\n",
            "OrderedDict({'weights': tensor([1.3014]), 'bias': tensor([-1.1998])})\n",
            "Loss: 1.2652562856674194\n",
            "OrderedDict({'weights': tensor([1.3053]), 'bias': tensor([-1.1898])})\n",
            "Loss: 1.2537351846694946\n",
            "OrderedDict({'weights': tensor([1.3092]), 'bias': tensor([-1.1798])})\n",
            "Loss: 1.2422142028808594\n",
            "OrderedDict({'weights': tensor([1.3131]), 'bias': tensor([-1.1698])})\n",
            "Loss: 1.2306931018829346\n",
            "OrderedDict({'weights': tensor([1.3170]), 'bias': tensor([-1.1598])})\n",
            "Loss: 1.2191721200942993\n",
            "OrderedDict({'weights': tensor([1.3209]), 'bias': tensor([-1.1498])})\n",
            "Loss: 1.2076513767242432\n",
            "OrderedDict({'weights': tensor([1.3248]), 'bias': tensor([-1.1398])})\n",
            "Loss: 1.1961301565170288\n",
            "OrderedDict({'weights': tensor([1.3287]), 'bias': tensor([-1.1298])})\n",
            "Loss: 1.1846091747283936\n",
            "OrderedDict({'weights': tensor([1.3326]), 'bias': tensor([-1.1198])})\n",
            "Loss: 1.1730881929397583\n",
            "OrderedDict({'weights': tensor([1.3365]), 'bias': tensor([-1.1098])})\n",
            "Loss: 1.161567211151123\n",
            "OrderedDict({'weights': tensor([1.3404]), 'bias': tensor([-1.0998])})\n",
            "Loss: 1.1500461101531982\n",
            "OrderedDict({'weights': tensor([1.3443]), 'bias': tensor([-1.0898])})\n",
            "Loss: 1.1385250091552734\n",
            "OrderedDict({'weights': tensor([1.3482]), 'bias': tensor([-1.0798])})\n",
            "Loss: 1.1270041465759277\n",
            "OrderedDict({'weights': tensor([1.3521]), 'bias': tensor([-1.0698])})\n",
            "Loss: 1.115483045578003\n",
            "OrderedDict({'weights': tensor([1.3560]), 'bias': tensor([-1.0598])})\n",
            "Loss: 1.1039621829986572\n",
            "OrderedDict({'weights': tensor([1.3599]), 'bias': tensor([-1.0498])})\n",
            "Loss: 1.0924410820007324\n",
            "OrderedDict({'weights': tensor([1.3638]), 'bias': tensor([-1.0398])})\n",
            "Loss: 1.0809199810028076\n",
            "OrderedDict({'weights': tensor([1.3677]), 'bias': tensor([-1.0298])})\n",
            "Loss: 1.069399118423462\n",
            "OrderedDict({'weights': tensor([1.3716]), 'bias': tensor([-1.0198])})\n",
            "Loss: 1.057878017425537\n",
            "OrderedDict({'weights': tensor([1.3755]), 'bias': tensor([-1.0098])})\n",
            "Loss: 1.0463569164276123\n",
            "OrderedDict({'weights': tensor([1.3794]), 'bias': tensor([-0.9998])})\n",
            "Loss: 1.0348360538482666\n",
            "OrderedDict({'weights': tensor([1.3833]), 'bias': tensor([-0.9898])})\n",
            "Loss: 1.0233150720596313\n",
            "OrderedDict({'weights': tensor([1.3872]), 'bias': tensor([-0.9798])})\n",
            "Loss: 1.0117939710617065\n",
            "OrderedDict({'weights': tensor([1.3911]), 'bias': tensor([-0.9698])})\n",
            "Loss: 1.0002729892730713\n",
            "OrderedDict({'weights': tensor([1.3950]), 'bias': tensor([-0.9598])})\n",
            "Loss: 0.988752007484436\n",
            "OrderedDict({'weights': tensor([1.3989]), 'bias': tensor([-0.9498])})\n",
            "Loss: 0.9772310256958008\n",
            "OrderedDict({'weights': tensor([1.4028]), 'bias': tensor([-0.9398])})\n",
            "Loss: 0.9657099843025208\n",
            "OrderedDict({'weights': tensor([1.4067]), 'bias': tensor([-0.9298])})\n",
            "Loss: 0.9541890025138855\n",
            "OrderedDict({'weights': tensor([1.4106]), 'bias': tensor([-0.9198])})\n",
            "Loss: 0.9426679611206055\n",
            "OrderedDict({'weights': tensor([1.4145]), 'bias': tensor([-0.9098])})\n",
            "Loss: 0.9311469793319702\n",
            "OrderedDict({'weights': tensor([1.4184]), 'bias': tensor([-0.8998])})\n",
            "Loss: 0.9196259379386902\n",
            "OrderedDict({'weights': tensor([1.4223]), 'bias': tensor([-0.8898])})\n",
            "Loss: 0.9081048965454102\n",
            "OrderedDict({'weights': tensor([1.4262]), 'bias': tensor([-0.8798])})\n",
            "Loss: 0.8965839147567749\n",
            "OrderedDict({'weights': tensor([1.4301]), 'bias': tensor([-0.8698])})\n",
            "Loss: 0.8850628733634949\n",
            "OrderedDict({'weights': tensor([1.4340]), 'bias': tensor([-0.8598])})\n",
            "Loss: 0.8735418319702148\n",
            "OrderedDict({'weights': tensor([1.4379]), 'bias': tensor([-0.8498])})\n",
            "Loss: 0.8620208501815796\n",
            "OrderedDict({'weights': tensor([1.4418]), 'bias': tensor([-0.8398])})\n",
            "Loss: 0.8504998087882996\n",
            "OrderedDict({'weights': tensor([1.4457]), 'bias': tensor([-0.8298])})\n",
            "Loss: 0.8389788866043091\n",
            "OrderedDict({'weights': tensor([1.4496]), 'bias': tensor([-0.8198])})\n",
            "Loss: 0.8274577856063843\n",
            "OrderedDict({'weights': tensor([1.4535]), 'bias': tensor([-0.8098])})\n",
            "Loss: 0.8159368634223938\n",
            "OrderedDict({'weights': tensor([1.4574]), 'bias': tensor([-0.7998])})\n",
            "Loss: 0.8044158816337585\n",
            "OrderedDict({'weights': tensor([1.4613]), 'bias': tensor([-0.7898])})\n",
            "Loss: 0.7928948402404785\n",
            "OrderedDict({'weights': tensor([1.4652]), 'bias': tensor([-0.7798])})\n",
            "Loss: 0.7813737988471985\n",
            "OrderedDict({'weights': tensor([1.4691]), 'bias': tensor([-0.7698])})\n",
            "Loss: 0.7698527574539185\n",
            "OrderedDict({'weights': tensor([1.4730]), 'bias': tensor([-0.7598])})\n",
            "Loss: 0.758331835269928\n",
            "OrderedDict({'weights': tensor([1.4769]), 'bias': tensor([-0.7498])})\n",
            "Loss: 0.746810793876648\n",
            "OrderedDict({'weights': tensor([1.4808]), 'bias': tensor([-0.7398])})\n",
            "Loss: 0.7352897524833679\n",
            "OrderedDict({'weights': tensor([1.4847]), 'bias': tensor([-0.7298])})\n",
            "Loss: 0.7237687706947327\n",
            "OrderedDict({'weights': tensor([1.4886]), 'bias': tensor([-0.7198])})\n",
            "Loss: 0.7122477293014526\n",
            "OrderedDict({'weights': tensor([1.4925]), 'bias': tensor([-0.7098])})\n",
            "Loss: 0.7007266879081726\n",
            "OrderedDict({'weights': tensor([1.4964]), 'bias': tensor([-0.6998])})\n",
            "Loss: 0.6892056465148926\n",
            "OrderedDict({'weights': tensor([1.5003]), 'bias': tensor([-0.6898])})\n"
          ]
        }
      ],
      "source": [
        "epochs =100\n",
        "###Loop through data\n",
        "for epoch in range(epochs):\n",
        "  model_0.train() ##set training mode\n",
        "  ###forward pass\n",
        "  y_pred = model_0(X_train)\n",
        "  ###calculating the loss\n",
        "  loss = loss_fn(y_pred, y_train)\n",
        "  print(f\"Loss: {loss}\")\n",
        "  optimizer.zero_grad()\n",
        "  loss.backward()\n",
        "  optimizer.step()\n",
        "  model_0.eval()\n",
        "  print(model_0.state_dict())"
      ]
    },
    {
      "cell_type": "code",
      "execution_count": 220,
      "metadata": {
        "colab": {
          "base_uri": "https://localhost:8080/",
          "height": 599
        },
        "id": "f-f8OhrDRDJ3",
        "outputId": "3ec690f7-f8d1-4598-d4c0-f0b973b95704"
      },
      "outputs": [
        {
          "data": {
            "image/png": "[encoded data removed]",
            "text/plain": [
              "<Figure size 1000x700 with 1 Axes>"
            ]
          },
          "metadata": {},
          "output_type": "display_data"
        }
      ],
      "source": [
        "with torch.inference_mode():\n",
        "  y_pred_new = model_0(X_test)\n",
        "plot_predictions(y_pred_new, X_test)"
      ]
    }
  ],
  "metadata": {
    "accelerator": "GPU",
    "colab": {
      "gpuType": "T4",
      "provenance": []
    },
    "kernelspec": {
      "display_name": "Python 3",
      "name": "python3"
    },
    "language_info": {
      "name": "python"
    }
  },
  "nbformat": 4,
  "nbformat_minor": 0
}
