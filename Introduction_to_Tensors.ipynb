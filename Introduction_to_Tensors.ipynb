{
  "nbformat": 4,
  "nbformat_minor": 0,
  "metadata": {
    "colab": {
      "provenance": []
    },
    "kernelspec": {
      "name": "python3",
      "display_name": "Python 3"
    },
    "language_info": {
      "name": "python"
    }
  },
  "cells": [
    {
      "cell_type": "code",
      "execution_count": 116,
      "metadata": {
        "id": "qFF_kdK_of7B"
      },
      "outputs": [],
      "source": [
        "import torch\n",
        "import pandas as pd\n",
        "import numpy as np\n",
        "import matplotlib.pyplot as plt"
      ]
    },
    {
      "cell_type": "markdown",
      "source": [
        "Introduction to tensors"
      ],
      "metadata": {
        "id": "XxZeEOIkp1h6"
      }
    },
    {
      "cell_type": "code",
      "source": [
        "scalar = torch.tensor(8)\n",
        "scalar"
      ],
      "metadata": {
        "colab": {
          "base_uri": "https://localhost:8080/"
        },
        "id": "Z0XbnuedqHOo",
        "outputId": "4dcdcf4c-57a9-49ea-988e-8f1994876a62"
      },
      "execution_count": 117,
      "outputs": [
        {
          "output_type": "execute_result",
          "data": {
            "text/plain": [
              "tensor(8)"
            ]
          },
          "metadata": {},
          "execution_count": 117
        }
      ]
    },
    {
      "cell_type": "code",
      "source": [
        "scalar.ndim\n",
        "scalar.item()"
      ],
      "metadata": {
        "colab": {
          "base_uri": "https://localhost:8080/"
        },
        "id": "QQO8Q6ANqdaA",
        "outputId": "2eda0c88-4e1b-40f2-d6ac-3bb3bbb89816"
      },
      "execution_count": 118,
      "outputs": [
        {
          "output_type": "execute_result",
          "data": {
            "text/plain": [
              "8"
            ]
          },
          "metadata": {},
          "execution_count": 118
        }
      ]
    },
    {
      "cell_type": "code",
      "source": [
        "vector = torch.tensor ([7,7])\n",
        "vector.ndim\n",
        "vector.shape"
      ],
      "metadata": {
        "colab": {
          "base_uri": "https://localhost:8080/"
        },
        "id": "lnftdZm8r2Xt",
        "outputId": "07c2b62a-1831-43e7-fdac-71a251e36480"
      },
      "execution_count": 119,
      "outputs": [
        {
          "output_type": "execute_result",
          "data": {
            "text/plain": [
              "torch.Size([2])"
            ]
          },
          "metadata": {},
          "execution_count": 119
        }
      ]
    },
    {
      "cell_type": "code",
      "source": [
        "###creating matrix\n",
        "matrix = torch.tensor([[7,8],[9,0]])\n",
        "matrix.ndim\n"
      ],
      "metadata": {
        "colab": {
          "base_uri": "https://localhost:8080/"
        },
        "id": "w4wulTr1sNcK",
        "outputId": "2e8d736d-63f8-4111-f777-3e23d8b5186c"
      },
      "execution_count": 120,
      "outputs": [
        {
          "output_type": "execute_result",
          "data": {
            "text/plain": [
              "2"
            ]
          },
          "metadata": {},
          "execution_count": 120
        }
      ]
    },
    {
      "cell_type": "code",
      "source": [
        "matrix[0]"
      ],
      "metadata": {
        "colab": {
          "base_uri": "https://localhost:8080/"
        },
        "id": "xK4t3JqWsvq-",
        "outputId": "0b8288b9-839d-45ed-88e5-7b5d95b5daec"
      },
      "execution_count": 121,
      "outputs": [
        {
          "output_type": "execute_result",
          "data": {
            "text/plain": [
              "tensor([7, 8])"
            ]
          },
          "metadata": {},
          "execution_count": 121
        }
      ]
    },
    {
      "cell_type": "code",
      "source": [
        "matrix[1]"
      ],
      "metadata": {
        "colab": {
          "base_uri": "https://localhost:8080/"
        },
        "id": "zGfMYPiBt6Z6",
        "outputId": "0ea60f71-f44d-4094-979d-fdb7e7242c2d"
      },
      "execution_count": 122,
      "outputs": [
        {
          "output_type": "execute_result",
          "data": {
            "text/plain": [
              "tensor([9, 0])"
            ]
          },
          "metadata": {},
          "execution_count": 122
        }
      ]
    },
    {
      "cell_type": "markdown",
      "source": [],
      "metadata": {
        "id": "5h4wCA_Aufeg"
      }
    },
    {
      "cell_type": "code",
      "source": [
        "matrix.shape"
      ],
      "metadata": {
        "colab": {
          "base_uri": "https://localhost:8080/"
        },
        "id": "Zdlb3Bu_t9kw",
        "outputId": "7a7ebea5-6ebf-42c9-b229-089db5d8fbf8"
      },
      "execution_count": 123,
      "outputs": [
        {
          "output_type": "execute_result",
          "data": {
            "text/plain": [
              "torch.Size([2, 2])"
            ]
          },
          "metadata": {},
          "execution_count": 123
        }
      ]
    },
    {
      "cell_type": "code",
      "source": [
        "####Tensors\n",
        "tensor = torch.tensor([[[7,8,7], [1,2,3], [4,5,6]]])\n",
        "tensor"
      ],
      "metadata": {
        "colab": {
          "base_uri": "https://localhost:8080/"
        },
        "id": "J7v3G3mXt9OB",
        "outputId": "71630273-e627-4f73-e9c4-5fc1fe1e2f82"
      },
      "execution_count": 124,
      "outputs": [
        {
          "output_type": "execute_result",
          "data": {
            "text/plain": [
              "tensor([[[7, 8, 7],\n",
              "         [1, 2, 3],\n",
              "         [4, 5, 6]]])"
            ]
          },
          "metadata": {},
          "execution_count": 124
        }
      ]
    },
    {
      "cell_type": "code",
      "source": [
        "tensor.shape"
      ],
      "metadata": {
        "colab": {
          "base_uri": "https://localhost:8080/"
        },
        "id": "zizkUUueu8kQ",
        "outputId": "ba9cf58e-a982-4ff8-f5d7-aa460326ef06"
      },
      "execution_count": 125,
      "outputs": [
        {
          "output_type": "execute_result",
          "data": {
            "text/plain": [
              "torch.Size([1, 3, 3])"
            ]
          },
          "metadata": {},
          "execution_count": 125
        }
      ]
    },
    {
      "cell_type": "code",
      "source": [
        "tensor[0]"
      ],
      "metadata": {
        "colab": {
          "base_uri": "https://localhost:8080/"
        },
        "id": "oocriqmVvNTv",
        "outputId": "cbd15a68-432b-4ffa-ae4f-1a165e78d563"
      },
      "execution_count": 126,
      "outputs": [
        {
          "output_type": "execute_result",
          "data": {
            "text/plain": [
              "tensor([[7, 8, 7],\n",
              "        [1, 2, 3],\n",
              "        [4, 5, 6]])"
            ]
          },
          "metadata": {},
          "execution_count": 126
        }
      ]
    },
    {
      "cell_type": "code",
      "source": [
        "tensor[0,1,1]"
      ],
      "metadata": {
        "colab": {
          "base_uri": "https://localhost:8080/"
        },
        "id": "J83B39E9vPaa",
        "outputId": "a5a98bb0-fd04-416a-c97b-eec211c8ee70"
      },
      "execution_count": 127,
      "outputs": [
        {
          "output_type": "execute_result",
          "data": {
            "text/plain": [
              "tensor(2)"
            ]
          },
          "metadata": {},
          "execution_count": 127
        }
      ]
    },
    {
      "cell_type": "code",
      "source": [
        "tensor[0,2,1]"
      ],
      "metadata": {
        "colab": {
          "base_uri": "https://localhost:8080/"
        },
        "id": "FsZehQMgwX5A",
        "outputId": "d3ae3bd6-4425-4f55-d6be-9f608b21c578"
      },
      "execution_count": 128,
      "outputs": [
        {
          "output_type": "execute_result",
          "data": {
            "text/plain": [
              "tensor(5)"
            ]
          },
          "metadata": {},
          "execution_count": 128
        }
      ]
    },
    {
      "cell_type": "code",
      "source": [
        "tensor[0,0,1]"
      ],
      "metadata": {
        "colab": {
          "base_uri": "https://localhost:8080/"
        },
        "id": "MzlPviDzwpPV",
        "outputId": "0667dafc-9d0d-4262-ef64-83e476b36c05"
      },
      "execution_count": 129,
      "outputs": [
        {
          "output_type": "execute_result",
          "data": {
            "text/plain": [
              "tensor(8)"
            ]
          },
          "metadata": {},
          "execution_count": 129
        }
      ]
    },
    {
      "cell_type": "code",
      "source": [
        "tensor[0,2,2]"
      ],
      "metadata": {
        "colab": {
          "base_uri": "https://localhost:8080/"
        },
        "id": "yd71unRIwzCB",
        "outputId": "fc1260b6-93df-49ed-a550-b7822b9fee11"
      },
      "execution_count": 130,
      "outputs": [
        {
          "output_type": "execute_result",
          "data": {
            "text/plain": [
              "tensor(6)"
            ]
          },
          "metadata": {},
          "execution_count": 130
        }
      ]
    },
    {
      "cell_type": "code",
      "source": [
        "###Random tensors\n",
        "random_tensor = torch.rand(3,4,3)"
      ],
      "metadata": {
        "id": "pSqWzWHjxtJk"
      },
      "execution_count": 131,
      "outputs": []
    },
    {
      "cell_type": "code",
      "source": [
        "random_tensor.shape"
      ],
      "metadata": {
        "colab": {
          "base_uri": "https://localhost:8080/"
        },
        "id": "d9kKN81LzHp2",
        "outputId": "f9f5a52e-3cb3-4b99-ae51-7e8a93d8d889"
      },
      "execution_count": 132,
      "outputs": [
        {
          "output_type": "execute_result",
          "data": {
            "text/plain": [
              "torch.Size([3, 4, 3])"
            ]
          },
          "metadata": {},
          "execution_count": 132
        }
      ]
    },
    {
      "cell_type": "code",
      "source": [
        "random_tensor.ndim"
      ],
      "metadata": {
        "colab": {
          "base_uri": "https://localhost:8080/"
        },
        "id": "7u_khKQDzKOI",
        "outputId": "72afb109-bf4d-4ab1-a55b-6e1487765a92"
      },
      "execution_count": 133,
      "outputs": [
        {
          "output_type": "execute_result",
          "data": {
            "text/plain": [
              "3"
            ]
          },
          "metadata": {},
          "execution_count": 133
        }
      ]
    },
    {
      "cell_type": "code",
      "source": [
        "random_tensor"
      ],
      "metadata": {
        "colab": {
          "base_uri": "https://localhost:8080/"
        },
        "id": "QUlqOB8xzV3l",
        "outputId": "50930682-ee03-46cf-e4f7-d9236e7df1a8"
      },
      "execution_count": 134,
      "outputs": [
        {
          "output_type": "execute_result",
          "data": {
            "text/plain": [
              "tensor([[[0.4319, 0.0130, 0.5872],\n",
              "         [0.8867, 0.2231, 0.4883],\n",
              "         [0.7719, 0.5956, 0.8597],\n",
              "         [0.3956, 0.7258, 0.8361]],\n",
              "\n",
              "        [[0.0154, 0.9166, 0.8023],\n",
              "         [0.5943, 0.2825, 0.2075],\n",
              "         [0.4735, 0.7807, 0.3653],\n",
              "         [0.4575, 0.6798, 0.9965]],\n",
              "\n",
              "        [[0.4331, 0.9427, 0.4362],\n",
              "         [0.6885, 0.4348, 0.6679],\n",
              "         [0.2432, 0.1535, 0.7381],\n",
              "         [0.0203, 0.1211, 0.4766]]])"
            ]
          },
          "metadata": {},
          "execution_count": 134
        }
      ]
    },
    {
      "cell_type": "code",
      "source": [
        "##Creating something similar to an image tensor\n",
        "random_image_tensor = torch.rand(224,224,3)\n",
        "random_image_tensor.shape , random_image_tensor.ndim"
      ],
      "metadata": {
        "colab": {
          "base_uri": "https://localhost:8080/"
        },
        "id": "6L0nuQ7vzoUp",
        "outputId": "4706af2a-489f-4a78-8e23-d50692d10487"
      },
      "execution_count": 135,
      "outputs": [
        {
          "output_type": "execute_result",
          "data": {
            "text/plain": [
              "(torch.Size([224, 224, 3]), 3)"
            ]
          },
          "metadata": {},
          "execution_count": 135
        }
      ]
    },
    {
      "cell_type": "code",
      "source": [
        "torch_random = torch.rand(size=(3,2,3))"
      ],
      "metadata": {
        "id": "1-OaPRdI0URH"
      },
      "execution_count": 136,
      "outputs": []
    },
    {
      "cell_type": "code",
      "source": [
        "torch_random"
      ],
      "metadata": {
        "colab": {
          "base_uri": "https://localhost:8080/"
        },
        "id": "bJLxV59U06HY",
        "outputId": "343a14e7-14de-408a-f0b7-133dd1704ee5"
      },
      "execution_count": 137,
      "outputs": [
        {
          "output_type": "execute_result",
          "data": {
            "text/plain": [
              "tensor([[[0.9266, 0.6748, 0.1716],\n",
              "         [0.3213, 0.2470, 0.1586]],\n",
              "\n",
              "        [[0.3809, 0.1767, 0.4607],\n",
              "         [0.0668, 0.4501, 0.6325]],\n",
              "\n",
              "        [[0.4239, 0.0170, 0.1027],\n",
              "         [0.0451, 0.4909, 0.6750]]])"
            ]
          },
          "metadata": {},
          "execution_count": 137
        }
      ]
    },
    {
      "cell_type": "code",
      "source": [
        "torch_random = torch.rand(size=(4,4,3))"
      ],
      "metadata": {
        "id": "c7cDh7UZ1EIx"
      },
      "execution_count": 138,
      "outputs": []
    },
    {
      "cell_type": "code",
      "source": [
        "torch_random"
      ],
      "metadata": {
        "colab": {
          "base_uri": "https://localhost:8080/"
        },
        "id": "ulZvM02Y1KQS",
        "outputId": "6bdcbe48-e7ed-44d1-ce9b-897fbdb1f102"
      },
      "execution_count": 139,
      "outputs": [
        {
          "output_type": "execute_result",
          "data": {
            "text/plain": [
              "tensor([[[0.9459, 0.0996, 0.8372],\n",
              "         [0.6396, 0.8584, 0.9826],\n",
              "         [0.1827, 0.3083, 0.5557],\n",
              "         [0.3955, 0.2694, 0.1118]],\n",
              "\n",
              "        [[0.7471, 0.7842, 0.1016],\n",
              "         [0.5571, 0.2571, 0.5116],\n",
              "         [0.9575, 0.2710, 0.5507],\n",
              "         [0.6568, 0.7311, 0.5061]],\n",
              "\n",
              "        [[0.7197, 0.3646, 0.5307],\n",
              "         [0.5703, 0.1251, 0.3493],\n",
              "         [0.7734, 0.1977, 0.1662],\n",
              "         [0.2023, 0.2603, 0.6611]],\n",
              "\n",
              "        [[0.2530, 0.6531, 0.4381],\n",
              "         [0.5288, 0.3392, 0.2662],\n",
              "         [0.1930, 0.0137, 0.2541],\n",
              "         [0.9701, 0.0665, 0.5031]]])"
            ]
          },
          "metadata": {},
          "execution_count": 139
        }
      ]
    },
    {
      "cell_type": "code",
      "source": [
        "torch_random[1,3,2]"
      ],
      "metadata": {
        "colab": {
          "base_uri": "https://localhost:8080/"
        },
        "id": "w2kfBkcO1Ode",
        "outputId": "66410669-15f0-4d88-d604-3f3a99fcd927"
      },
      "execution_count": 140,
      "outputs": [
        {
          "output_type": "execute_result",
          "data": {
            "text/plain": [
              "tensor(0.5061)"
            ]
          },
          "metadata": {},
          "execution_count": 140
        }
      ]
    },
    {
      "cell_type": "code",
      "source": [
        "torch_random[3,0,1]"
      ],
      "metadata": {
        "colab": {
          "base_uri": "https://localhost:8080/"
        },
        "id": "rWe9uLpN1ei-",
        "outputId": "a52971b9-f0a1-491f-c559-0f8971cee64e"
      },
      "execution_count": 141,
      "outputs": [
        {
          "output_type": "execute_result",
          "data": {
            "text/plain": [
              "tensor(0.6531)"
            ]
          },
          "metadata": {},
          "execution_count": 141
        }
      ]
    },
    {
      "cell_type": "code",
      "source": [
        "#Creating tensors with 0's and 1's\n",
        "zeroes = torch.zeros(size=(4,5))\n",
        "zeroes"
      ],
      "metadata": {
        "colab": {
          "base_uri": "https://localhost:8080/"
        },
        "id": "3tqJTy3s1u_S",
        "outputId": "7c430325-4823-4eba-cd67-7d7275b9fa0c"
      },
      "execution_count": 142,
      "outputs": [
        {
          "output_type": "execute_result",
          "data": {
            "text/plain": [
              "tensor([[0., 0., 0., 0., 0.],\n",
              "        [0., 0., 0., 0., 0.],\n",
              "        [0., 0., 0., 0., 0.],\n",
              "        [0., 0., 0., 0., 0.]])"
            ]
          },
          "metadata": {},
          "execution_count": 142
        }
      ]
    },
    {
      "cell_type": "markdown",
      "source": [
        "creating a range of tensors and tensors-like"
      ],
      "metadata": {
        "id": "e7C75VA12nuK"
      }
    },
    {
      "cell_type": "code",
      "source": [
        " range1 = torch.arange(start=1, end=12, step=2)\n",
        " range1"
      ],
      "metadata": {
        "colab": {
          "base_uri": "https://localhost:8080/"
        },
        "id": "CEleoXnT2rpc",
        "outputId": "4aa364c7-9ec4-4619-bb86-f97082f66a19"
      },
      "execution_count": 143,
      "outputs": [
        {
          "output_type": "execute_result",
          "data": {
            "text/plain": [
              "tensor([ 1,  3,  5,  7,  9, 11])"
            ]
          },
          "metadata": {},
          "execution_count": 143
        }
      ]
    },
    {
      "cell_type": "code",
      "source": [
        "range1zeros = torch.zeros_like(range1)\n",
        "range1zeros"
      ],
      "metadata": {
        "colab": {
          "base_uri": "https://localhost:8080/"
        },
        "id": "O52e9J6s5BfM",
        "outputId": "bf5b8454-6b61-4efd-9d10-bc2c09a99ce4"
      },
      "execution_count": 144,
      "outputs": [
        {
          "output_type": "execute_result",
          "data": {
            "text/plain": [
              "tensor([0, 0, 0, 0, 0, 0])"
            ]
          },
          "metadata": {},
          "execution_count": 144
        }
      ]
    },
    {
      "cell_type": "code",
      "source": [
        "float_32_tensor = torch.tensor([3.0, 6.0, 9.0], dtype = torch.float16,\n",
        "                               device = 'cpu',\n",
        "                               requires_grad = False)"
      ],
      "metadata": {
        "id": "_uEwSmm_Hhgd"
      },
      "execution_count": 145,
      "outputs": []
    },
    {
      "cell_type": "code",
      "source": [
        "float2int_tensor = float_32_tensor.type(torch.int32)"
      ],
      "metadata": {
        "id": "Dp2wMNm5N5ty"
      },
      "execution_count": 146,
      "outputs": []
    },
    {
      "cell_type": "code",
      "source": [
        "###Directly convert the float_32_tensor to float_16_tensor\n",
        "\n",
        "float_16_tensor = float_32_tensor.type(torch.float16)\n",
        "float_16_tensor"
      ],
      "metadata": {
        "colab": {
          "base_uri": "https://localhost:8080/"
        },
        "id": "kL0VQqRjKEFc",
        "outputId": "3ce244f4-b902-43b2-f964-00eed8d93964"
      },
      "execution_count": 147,
      "outputs": [
        {
          "output_type": "execute_result",
          "data": {
            "text/plain": [
              "tensor([3., 6., 9.], dtype=torch.float16)"
            ]
          },
          "metadata": {},
          "execution_count": 147
        }
      ]
    },
    {
      "cell_type": "code",
      "source": [
        "###Tensors of type integer\n",
        "\n",
        "int_tensor = torch.tensor([3, 5, 9], dtype = torch.uint32,\n",
        "                          device = 'cpu',\n",
        "                          requires_grad = False)"
      ],
      "metadata": {
        "id": "baG8tjpfL6B1"
      },
      "execution_count": 148,
      "outputs": []
    },
    {
      "cell_type": "code",
      "source": [
        "int2float_tensor = int_tensor.type(torch.float32)"
      ],
      "metadata": {
        "id": "sHCcdQ1HMAaW"
      },
      "execution_count": 149,
      "outputs": []
    },
    {
      "cell_type": "markdown",
      "source": [
        "Get some tensor details"
      ],
      "metadata": {
        "id": "5j3CEzv5QoJR"
      }
    },
    {
      "cell_type": "code",
      "source": [
        "print(int2float_tensor)"
      ],
      "metadata": {
        "colab": {
          "base_uri": "https://localhost:8080/"
        },
        "id": "ZJIQYU00QnSl",
        "outputId": "e632dce0-53b7-4c89-a520-558d99828f73"
      },
      "execution_count": 150,
      "outputs": [
        {
          "output_type": "stream",
          "name": "stdout",
          "text": [
            "tensor([3., 5., 9.])\n"
          ]
        }
      ]
    },
    {
      "cell_type": "code",
      "source": [
        "print(f\"tensor datatype: {int2float_tensor.dtype}\")"
      ],
      "metadata": {
        "colab": {
          "base_uri": "https://localhost:8080/"
        },
        "id": "SYv7aJniQt8V",
        "outputId": "5204ec7b-dc24-4715-d4b2-b98f2cf05764"
      },
      "execution_count": 151,
      "outputs": [
        {
          "output_type": "stream",
          "name": "stdout",
          "text": [
            "tensor datatype: torch.float32\n"
          ]
        }
      ]
    },
    {
      "cell_type": "code",
      "source": [
        "print(f\"tensor shape: {int2float_tensor.shape}\")"
      ],
      "metadata": {
        "colab": {
          "base_uri": "https://localhost:8080/"
        },
        "id": "O8molHByQ5Qk",
        "outputId": "67622d95-b503-4fa1-cb14-e3a3917a356d"
      },
      "execution_count": 152,
      "outputs": [
        {
          "output_type": "stream",
          "name": "stdout",
          "text": [
            "tensor shape: torch.Size([3])\n"
          ]
        }
      ]
    },
    {
      "cell_type": "code",
      "source": [
        "print(f\"Device on which the tensor is running: {int2float_tensor.device}\")"
      ],
      "metadata": {
        "colab": {
          "base_uri": "https://localhost:8080/"
        },
        "id": "ZJIIsZP6RHCj",
        "outputId": "b8255d7e-56a9-4246-d4f6-8e8b57b73b8d"
      },
      "execution_count": 153,
      "outputs": [
        {
          "output_type": "stream",
          "name": "stdout",
          "text": [
            "Device on which the tensor is running: cpu\n"
          ]
        }
      ]
    },
    {
      "cell_type": "markdown",
      "source": [
        "Manipulation of tensors"
      ],
      "metadata": {
        "id": "f6kWiZVkRhZO"
      }
    },
    {
      "cell_type": "code",
      "source": [
        "tensor = torch.tensor([1,2,3])\n",
        "tensor + 10"
      ],
      "metadata": {
        "colab": {
          "base_uri": "https://localhost:8080/"
        },
        "id": "vxwq7KsWRgXO",
        "outputId": "dc6febd5-5de6-41b9-f7be-2aa87bd2e50d"
      },
      "execution_count": 154,
      "outputs": [
        {
          "output_type": "execute_result",
          "data": {
            "text/plain": [
              "tensor([11, 12, 13])"
            ]
          },
          "metadata": {},
          "execution_count": 154
        }
      ]
    },
    {
      "cell_type": "code",
      "source": [
        "##Matrix multiplication\n",
        "#Element-wise multiplication\n",
        "print(tensor, \"*\", tensor)\n",
        "print(f\"Equals: {tensor * tensor}\")"
      ],
      "metadata": {
        "colab": {
          "base_uri": "https://localhost:8080/"
        },
        "id": "FV0V78nhSxcg",
        "outputId": "667676a9-ed81-4075-f230-f417f63f9be5"
      },
      "execution_count": 155,
      "outputs": [
        {
          "output_type": "stream",
          "name": "stdout",
          "text": [
            "tensor([1, 2, 3]) * tensor([1, 2, 3])\n",
            "Equals: tensor([1, 4, 9])\n"
          ]
        }
      ]
    },
    {
      "cell_type": "code",
      "source": [
        "##Matrix multiplication(dot product)\n",
        "print (f\"1*1 + 2*2 + 3*3\")\n",
        "print (f\"Equals: {1*1 + 2*2 + 3*3}\")"
      ],
      "metadata": {
        "colab": {
          "base_uri": "https://localhost:8080/"
        },
        "id": "iwqZr8OvVn1u",
        "outputId": "9c70e095-0ee0-41ca-a9c4-08a26583aed6"
      },
      "execution_count": 156,
      "outputs": [
        {
          "output_type": "stream",
          "name": "stdout",
          "text": [
            "1*1 + 2*2 + 3*3\n",
            "Equals: 14\n"
          ]
        }
      ]
    },
    {
      "cell_type": "code",
      "source": [
        "value = 0\n",
        "for i in range(len(tensor)):\n",
        "    value = value + (tensor[i]*tensor[i])\n",
        "print(value)"
      ],
      "metadata": {
        "colab": {
          "base_uri": "https://localhost:8080/"
        },
        "id": "0tw9kbmTa3Ul",
        "outputId": "37fb8db9-3f74-49cc-d76f-891627e2522c"
      },
      "execution_count": 157,
      "outputs": [
        {
          "output_type": "stream",
          "name": "stdout",
          "text": [
            "tensor(14)\n"
          ]
        }
      ]
    },
    {
      "cell_type": "code",
      "source": [
        "torch.matmul(tensor,tensor)"
      ],
      "metadata": {
        "colab": {
          "base_uri": "https://localhost:8080/"
        },
        "id": "Dw50Ie4YbWhZ",
        "outputId": "3793c765-bbde-4d33-9e17-c443698c3473"
      },
      "execution_count": 158,
      "outputs": [
        {
          "output_type": "execute_result",
          "data": {
            "text/plain": [
              "tensor(14)"
            ]
          },
          "metadata": {},
          "execution_count": 158
        }
      ]
    },
    {
      "cell_type": "markdown",
      "source": [
        "one of the most common errors in deep learning are the shape errors"
      ],
      "metadata": {
        "id": "z_idQndJdBy_"
      }
    },
    {
      "cell_type": "code",
      "source": [
        "#Shapes for matrix multiplication\n",
        "tensor1 = torch.tensor([[1,2],[3,4],[5,6]])\n",
        "tensor1.shape\n"
      ],
      "metadata": {
        "colab": {
          "base_uri": "https://localhost:8080/"
        },
        "id": "ar9jrYzWdITQ",
        "outputId": "583b781a-5c62-42f7-f1d8-50fcb31d7df3"
      },
      "execution_count": 159,
      "outputs": [
        {
          "output_type": "execute_result",
          "data": {
            "text/plain": [
              "torch.Size([3, 2])"
            ]
          },
          "metadata": {},
          "execution_count": 159
        }
      ]
    },
    {
      "cell_type": "code",
      "source": [
        "tensor2 = torch.tensor([[7,8],[9,10],[11,12]])\n",
        "tensor2.shape"
      ],
      "metadata": {
        "colab": {
          "base_uri": "https://localhost:8080/"
        },
        "id": "Cx3mFvaIg8E4",
        "outputId": "17a693b0-55e7-40c5-be56-ae612542adc8"
      },
      "execution_count": 160,
      "outputs": [
        {
          "output_type": "execute_result",
          "data": {
            "text/plain": [
              "torch.Size([3, 2])"
            ]
          },
          "metadata": {},
          "execution_count": 160
        }
      ]
    },
    {
      "cell_type": "code",
      "source": [
        "tensor3 = torch.tensor([[7,8,9],[8,9,0]])\n",
        "tensor3.shape"
      ],
      "metadata": {
        "colab": {
          "base_uri": "https://localhost:8080/"
        },
        "id": "gEtpTD1-iki3",
        "outputId": "9fcbfd00-075c-4122-d1ff-1b8e431f4d31"
      },
      "execution_count": 161,
      "outputs": [
        {
          "output_type": "execute_result",
          "data": {
            "text/plain": [
              "torch.Size([2, 3])"
            ]
          },
          "metadata": {},
          "execution_count": 161
        }
      ]
    },
    {
      "cell_type": "code",
      "source": [
        "result_tensor = torch.matmul(tensor1,tensor3)\n",
        "print(result_tensor)"
      ],
      "metadata": {
        "colab": {
          "base_uri": "https://localhost:8080/"
        },
        "id": "79t3bPCqhJCo",
        "outputId": "58e7450c-b9e4-475e-d366-5c93c516cd57"
      },
      "execution_count": 162,
      "outputs": [
        {
          "output_type": "stream",
          "name": "stdout",
          "text": [
            "tensor([[23, 26,  9],\n",
            "        [53, 60, 27],\n",
            "        [83, 94, 45]])\n"
          ]
        }
      ]
    },
    {
      "cell_type": "code",
      "source": [
        "result_tensor.shape"
      ],
      "metadata": {
        "colab": {
          "base_uri": "https://localhost:8080/"
        },
        "id": "p46-tPnmk_C4",
        "outputId": "61a652b5-9ab3-4469-d837-8d3ec8f57326"
      },
      "execution_count": 163,
      "outputs": [
        {
          "output_type": "execute_result",
          "data": {
            "text/plain": [
              "torch.Size([3, 3])"
            ]
          },
          "metadata": {},
          "execution_count": 163
        }
      ]
    },
    {
      "cell_type": "code",
      "source": [
        "tensor4 = torch.tensor([[7],[8]])\n",
        "tensor4.shape"
      ],
      "metadata": {
        "colab": {
          "base_uri": "https://localhost:8080/"
        },
        "id": "9MkW9ykUlBuJ",
        "outputId": "5d70ada0-1855-447c-8c25-5103bb6e3227"
      },
      "execution_count": 164,
      "outputs": [
        {
          "output_type": "execute_result",
          "data": {
            "text/plain": [
              "torch.Size([2, 1])"
            ]
          },
          "metadata": {},
          "execution_count": 164
        }
      ]
    },
    {
      "cell_type": "code",
      "source": [
        "result_tensor1 = torch.matmul(tensor1 , tensor4)\n",
        "print(result_tensor1)"
      ],
      "metadata": {
        "colab": {
          "base_uri": "https://localhost:8080/"
        },
        "id": "MnbVw2sVlkgl",
        "outputId": "665e0900-3e88-42af-b5ab-106687ee6097"
      },
      "execution_count": 165,
      "outputs": [
        {
          "output_type": "stream",
          "name": "stdout",
          "text": [
            "tensor([[23],\n",
            "        [53],\n",
            "        [83]])\n"
          ]
        }
      ]
    },
    {
      "cell_type": "markdown",
      "source": [
        "#Adjusting tensor shape using transpose"
      ],
      "metadata": {
        "id": "SORCFIO4mvwI"
      }
    },
    {
      "cell_type": "code",
      "source": [
        "tensor2.T, tensor2"
      ],
      "metadata": {
        "colab": {
          "base_uri": "https://localhost:8080/"
        },
        "id": "4eo3Z8wcl5HY",
        "outputId": "4319767b-49d8-405f-c503-87c14aef2068"
      },
      "execution_count": 166,
      "outputs": [
        {
          "output_type": "execute_result",
          "data": {
            "text/plain": [
              "(tensor([[ 7,  9, 11],\n",
              "         [ 8, 10, 12]]),\n",
              " tensor([[ 7,  8],\n",
              "         [ 9, 10],\n",
              "         [11, 12]]))"
            ]
          },
          "metadata": {},
          "execution_count": 166
        }
      ]
    },
    {
      "cell_type": "code",
      "source": [
        "tensor2.T.shape, tensor2.shape"
      ],
      "metadata": {
        "colab": {
          "base_uri": "https://localhost:8080/"
        },
        "id": "3nmcWkcynTk9",
        "outputId": "6e0326e4-bfc4-429f-946e-12d002f1a657"
      },
      "execution_count": 167,
      "outputs": [
        {
          "output_type": "execute_result",
          "data": {
            "text/plain": [
              "(torch.Size([2, 3]), torch.Size([3, 2]))"
            ]
          },
          "metadata": {},
          "execution_count": 167
        }
      ]
    },
    {
      "cell_type": "code",
      "source": [
        "result_tensor2 = torch.matmul(tensor2.T,tensor2)"
      ],
      "metadata": {
        "id": "ZpYQxkBZnWgj"
      },
      "execution_count": 168,
      "outputs": []
    },
    {
      "cell_type": "code",
      "source": [
        "result_tensor2.shape"
      ],
      "metadata": {
        "colab": {
          "base_uri": "https://localhost:8080/"
        },
        "id": "1yBVsbxooCes",
        "outputId": "86a961b1-bbe5-4806-cee0-10f61580d77d"
      },
      "execution_count": 169,
      "outputs": [
        {
          "output_type": "execute_result",
          "data": {
            "text/plain": [
              "torch.Size([2, 2])"
            ]
          },
          "metadata": {},
          "execution_count": 169
        }
      ]
    },
    {
      "cell_type": "markdown",
      "source": [
        "Reshaping, stacking and squeezing  tensors"
      ],
      "metadata": {
        "id": "-NovT8HNbPrS"
      }
    },
    {
      "cell_type": "code",
      "source": [
        "x1 = torch.arange(1,10)\n",
        "x1, x1.shape"
      ],
      "metadata": {
        "colab": {
          "base_uri": "https://localhost:8080/"
        },
        "id": "r2hsMEKYbXlx",
        "outputId": "c176a474-3aa2-4133-898b-0acdaffd78a4"
      },
      "execution_count": 170,
      "outputs": [
        {
          "output_type": "execute_result",
          "data": {
            "text/plain": [
              "(tensor([1, 2, 3, 4, 5, 6, 7, 8, 9]), torch.Size([9]))"
            ]
          },
          "metadata": {},
          "execution_count": 170
        }
      ]
    },
    {
      "cell_type": "code",
      "source": [
        "x2 = torch.arange(2,10, step =2)\n",
        "x2, x2.shape"
      ],
      "metadata": {
        "colab": {
          "base_uri": "https://localhost:8080/"
        },
        "id": "ef0PkRdmtMPm",
        "outputId": "af059e42-7a65-4b12-dd32-817860f5cd66"
      },
      "execution_count": 171,
      "outputs": [
        {
          "output_type": "execute_result",
          "data": {
            "text/plain": [
              "(tensor([2, 4, 6, 8]), torch.Size([4]))"
            ]
          },
          "metadata": {},
          "execution_count": 171
        }
      ]
    },
    {
      "cell_type": "code",
      "source": [
        "x1.reshape(9,1)"
      ],
      "metadata": {
        "colab": {
          "base_uri": "https://localhost:8080/"
        },
        "id": "LQOsy3XKtSY8",
        "outputId": "b9b4f752-07ec-40a3-d8c9-95adf0271a52"
      },
      "execution_count": 172,
      "outputs": [
        {
          "output_type": "execute_result",
          "data": {
            "text/plain": [
              "tensor([[1],\n",
              "        [2],\n",
              "        [3],\n",
              "        [4],\n",
              "        [5],\n",
              "        [6],\n",
              "        [7],\n",
              "        [8],\n",
              "        [9]])"
            ]
          },
          "metadata": {},
          "execution_count": 172
        }
      ]
    },
    {
      "cell_type": "code",
      "source": [
        "x1.reshape(1,9)"
      ],
      "metadata": {
        "colab": {
          "base_uri": "https://localhost:8080/"
        },
        "id": "2JEUTeI-uCi1",
        "outputId": "5f6abab3-863a-4485-9bc8-e59a024ea368"
      },
      "execution_count": 173,
      "outputs": [
        {
          "output_type": "execute_result",
          "data": {
            "text/plain": [
              "tensor([[1, 2, 3, 4, 5, 6, 7, 8, 9]])"
            ]
          },
          "metadata": {},
          "execution_count": 173
        }
      ]
    },
    {
      "cell_type": "code",
      "source": [
        "x1.reshape(3,3)"
      ],
      "metadata": {
        "colab": {
          "base_uri": "https://localhost:8080/"
        },
        "id": "_JMWytKZuNeU",
        "outputId": "e9dc49c9-f955-4868-c01b-1a5e77faab11"
      },
      "execution_count": 174,
      "outputs": [
        {
          "output_type": "execute_result",
          "data": {
            "text/plain": [
              "tensor([[1, 2, 3],\n",
              "        [4, 5, 6],\n",
              "        [7, 8, 9]])"
            ]
          },
          "metadata": {},
          "execution_count": 174
        }
      ]
    },
    {
      "cell_type": "code",
      "source": [
        "x1.reshape(1,3,3)"
      ],
      "metadata": {
        "colab": {
          "base_uri": "https://localhost:8080/"
        },
        "id": "flvIakINvcA6",
        "outputId": "bde07b1a-53b2-472c-914e-ba8a84d675fe"
      },
      "execution_count": 175,
      "outputs": [
        {
          "output_type": "execute_result",
          "data": {
            "text/plain": [
              "tensor([[[1, 2, 3],\n",
              "         [4, 5, 6],\n",
              "         [7, 8, 9]]])"
            ]
          },
          "metadata": {},
          "execution_count": 175
        }
      ]
    },
    {
      "cell_type": "markdown",
      "source": [
        "Reshaping the tensor x2\n"
      ],
      "metadata": {
        "id": "YV_G2E88vs_C"
      }
    },
    {
      "cell_type": "code",
      "source": [
        "x2.reshape(2,2)"
      ],
      "metadata": {
        "colab": {
          "base_uri": "https://localhost:8080/"
        },
        "id": "kArvTJzmvvXk",
        "outputId": "dc6d7f73-2f27-457e-8eda-16ceabeab64d"
      },
      "execution_count": 176,
      "outputs": [
        {
          "output_type": "execute_result",
          "data": {
            "text/plain": [
              "tensor([[2, 4],\n",
              "        [6, 8]])"
            ]
          },
          "metadata": {},
          "execution_count": 176
        }
      ]
    },
    {
      "cell_type": "code",
      "source": [
        "x2.reshape(1,2,2)"
      ],
      "metadata": {
        "colab": {
          "base_uri": "https://localhost:8080/"
        },
        "id": "fc6Az6H7wW6z",
        "outputId": "e025b0a2-65ec-4ec9-eb9a-666dd0c3c843"
      },
      "execution_count": 177,
      "outputs": [
        {
          "output_type": "execute_result",
          "data": {
            "text/plain": [
              "tensor([[[2, 4],\n",
              "         [6, 8]]])"
            ]
          },
          "metadata": {},
          "execution_count": 177
        }
      ]
    },
    {
      "cell_type": "code",
      "source": [
        "x2.reshape(1,4)"
      ],
      "metadata": {
        "colab": {
          "base_uri": "https://localhost:8080/"
        },
        "id": "ePTaNAWwwahD",
        "outputId": "5b5ed093-0d0d-423e-c524-200b3ecba655"
      },
      "execution_count": 178,
      "outputs": [
        {
          "output_type": "execute_result",
          "data": {
            "text/plain": [
              "tensor([[2, 4, 6, 8]])"
            ]
          },
          "metadata": {},
          "execution_count": 178
        }
      ]
    },
    {
      "cell_type": "code",
      "source": [
        "x2.reshape(4,1)"
      ],
      "metadata": {
        "colab": {
          "base_uri": "https://localhost:8080/"
        },
        "id": "BT0PbKSbwskc",
        "outputId": "a725c975-bc4c-429b-868e-a4266b0f5d0a"
      },
      "execution_count": 179,
      "outputs": [
        {
          "output_type": "execute_result",
          "data": {
            "text/plain": [
              "tensor([[2],\n",
              "        [4],\n",
              "        [6],\n",
              "        [8]])"
            ]
          },
          "metadata": {},
          "execution_count": 179
        }
      ]
    },
    {
      "cell_type": "code",
      "source": [
        "x2.reshape(1,1,4)"
      ],
      "metadata": {
        "colab": {
          "base_uri": "https://localhost:8080/"
        },
        "id": "h6Dm1FuwxdE1",
        "outputId": "084cf4b0-f5cd-4bd0-93d9-cdfbb4036948"
      },
      "execution_count": 180,
      "outputs": [
        {
          "output_type": "execute_result",
          "data": {
            "text/plain": [
              "tensor([[[2, 4, 6, 8]]])"
            ]
          },
          "metadata": {},
          "execution_count": 180
        }
      ]
    },
    {
      "cell_type": "code",
      "source": [
        "x2.reshape(1,4,1)"
      ],
      "metadata": {
        "colab": {
          "base_uri": "https://localhost:8080/"
        },
        "id": "m8wdgIKdxj8r",
        "outputId": "61daf2ba-1e3f-4120-e417-d900d1ab75b1"
      },
      "execution_count": 181,
      "outputs": [
        {
          "output_type": "execute_result",
          "data": {
            "text/plain": [
              "tensor([[[2],\n",
              "         [4],\n",
              "         [6],\n",
              "         [8]]])"
            ]
          },
          "metadata": {},
          "execution_count": 181
        }
      ]
    },
    {
      "cell_type": "code",
      "source": [
        "x2.reshape(2,1,2)"
      ],
      "metadata": {
        "colab": {
          "base_uri": "https://localhost:8080/"
        },
        "id": "qK0aoohxxsmh",
        "outputId": "581ff4af-11f0-4faa-a350-d8a0dea9803b"
      },
      "execution_count": 182,
      "outputs": [
        {
          "output_type": "execute_result",
          "data": {
            "text/plain": [
              "tensor([[[2, 4]],\n",
              "\n",
              "        [[6, 8]]])"
            ]
          },
          "metadata": {},
          "execution_count": 182
        }
      ]
    },
    {
      "cell_type": "markdown",
      "source": [
        " If we want 2 rows; but pytorch has to figure out the number of columns automatically"
      ],
      "metadata": {
        "id": "nvFn7pJ-zLFX"
      }
    },
    {
      "cell_type": "code",
      "source": [
        "x2.reshape(2,-1)"
      ],
      "metadata": {
        "colab": {
          "base_uri": "https://localhost:8080/"
        },
        "id": "EBth3O93yJ1Y",
        "outputId": "0f63c270-e135-49ce-e117-8cfd213003c9"
      },
      "execution_count": 183,
      "outputs": [
        {
          "output_type": "execute_result",
          "data": {
            "text/plain": [
              "tensor([[2, 4],\n",
              "        [6, 8]])"
            ]
          },
          "metadata": {},
          "execution_count": 183
        }
      ]
    },
    {
      "cell_type": "markdown",
      "source": [
        " If we want 2 columns; but pytorch has to figure out the number of columns automatically"
      ],
      "metadata": {
        "id": "PLE4j2CrzZeY"
      }
    },
    {
      "cell_type": "code",
      "source": [
        "x2.reshape(-1,2)"
      ],
      "metadata": {
        "colab": {
          "base_uri": "https://localhost:8080/"
        },
        "id": "1_Zh3Lryy957",
        "outputId": "dbe37c7b-8bd7-459a-c650-93650ef27901"
      },
      "execution_count": 184,
      "outputs": [
        {
          "output_type": "execute_result",
          "data": {
            "text/plain": [
              "tensor([[2, 4],\n",
              "        [6, 8]])"
            ]
          },
          "metadata": {},
          "execution_count": 184
        }
      ]
    },
    {
      "cell_type": "code",
      "source": [
        "###Changing view of tensor\n",
        "z= x1.view(1,9)\n",
        "z,z.shape"
      ],
      "metadata": {
        "colab": {
          "base_uri": "https://localhost:8080/"
        },
        "id": "49hnRQ9ezqsG",
        "outputId": "26150dbc-55ac-4420-f5e1-346a1ad96b86"
      },
      "execution_count": 185,
      "outputs": [
        {
          "output_type": "execute_result",
          "data": {
            "text/plain": [
              "(tensor([[1, 2, 3, 4, 5, 6, 7, 8, 9]]), torch.Size([1, 9]))"
            ]
          },
          "metadata": {},
          "execution_count": 185
        }
      ]
    },
    {
      "cell_type": "code",
      "source": [
        "#changing x changes z\n",
        "z[:,0] = 5\n",
        "z,x1"
      ],
      "metadata": {
        "colab": {
          "base_uri": "https://localhost:8080/"
        },
        "id": "T3Omk3673z_p",
        "outputId": "b98dd54a-2ec9-481d-aed1-bbcda3cb23d0"
      },
      "execution_count": 186,
      "outputs": [
        {
          "output_type": "execute_result",
          "data": {
            "text/plain": [
              "(tensor([[5, 2, 3, 4, 5, 6, 7, 8, 9]]), tensor([5, 2, 3, 4, 5, 6, 7, 8, 9]))"
            ]
          },
          "metadata": {},
          "execution_count": 186
        }
      ]
    },
    {
      "cell_type": "code",
      "source": [
        "z[:,1:9] = 6\n",
        "z,x1"
      ],
      "metadata": {
        "colab": {
          "base_uri": "https://localhost:8080/"
        },
        "id": "VTRQxuxW4DBP",
        "outputId": "269a715e-ad32-4145-e5df-4e3addda2cd1"
      },
      "execution_count": 187,
      "outputs": [
        {
          "output_type": "execute_result",
          "data": {
            "text/plain": [
              "(tensor([[5, 6, 6, 6, 6, 6, 6, 6, 6]]), tensor([5, 6, 6, 6, 6, 6, 6, 6, 6]))"
            ]
          },
          "metadata": {},
          "execution_count": 187
        }
      ]
    },
    {
      "cell_type": "code",
      "source": [
        "##Stacking tensors on top of each other\n",
        "x1_stacked = torch.stack([x,x,x,x],dim=1)\n",
        "x1_stacked"
      ],
      "metadata": {
        "colab": {
          "base_uri": "https://localhost:8080/"
        },
        "id": "PcSzBg_64XMD",
        "outputId": "854e849b-a22b-4cab-f86b-5f6afc5110e3"
      },
      "execution_count": 188,
      "outputs": [
        {
          "output_type": "execute_result",
          "data": {
            "text/plain": [
              "tensor([[1, 1, 1, 1],\n",
              "        [2, 2, 2, 2],\n",
              "        [3, 3, 3, 3],\n",
              "        [4, 4, 4, 4],\n",
              "        [5, 5, 5, 5],\n",
              "        [6, 6, 6, 6],\n",
              "        [7, 7, 7, 7],\n",
              "        [8, 8, 8, 8],\n",
              "        [9, 9, 9, 9]])"
            ]
          },
          "metadata": {},
          "execution_count": 188
        }
      ]
    },
    {
      "cell_type": "code",
      "source": [
        "x2_stacked = torch.stack([x2,x2,x2,x2],dim=0)\n",
        "x2_stacked"
      ],
      "metadata": {
        "colab": {
          "base_uri": "https://localhost:8080/"
        },
        "id": "YWnmR1yB_uyj",
        "outputId": "d5e45d51-6dfe-4ec6-de0c-8f0d2623db8b"
      },
      "execution_count": 189,
      "outputs": [
        {
          "output_type": "execute_result",
          "data": {
            "text/plain": [
              "tensor([[2, 4, 6, 8],\n",
              "        [2, 4, 6, 8],\n",
              "        [2, 4, 6, 8],\n",
              "        [2, 4, 6, 8]])"
            ]
          },
          "metadata": {},
          "execution_count": 189
        }
      ]
    },
    {
      "cell_type": "code",
      "source": [
        "x2_stacked = torch.stack([x2,x2,x2,x2],dim=1)\n",
        "x2_stacked"
      ],
      "metadata": {
        "colab": {
          "base_uri": "https://localhost:8080/"
        },
        "id": "BImKEvwE_9TH",
        "outputId": "3aa45548-970f-4bc6-f634-b42b6c24c7c2"
      },
      "execution_count": 190,
      "outputs": [
        {
          "output_type": "execute_result",
          "data": {
            "text/plain": [
              "tensor([[2, 2, 2, 2],\n",
              "        [4, 4, 4, 4],\n",
              "        [6, 6, 6, 6],\n",
              "        [8, 8, 8, 8]])"
            ]
          },
          "metadata": {},
          "execution_count": 190
        }
      ]
    },
    {
      "cell_type": "markdown",
      "source": [
        "Now let us stack stack tensors with dim = 3"
      ],
      "metadata": {
        "id": "mbOZ2YE_IkCm"
      }
    },
    {
      "cell_type": "code",
      "source": [
        "##reshape the tensor\n",
        "x2_reshaped1 = torch.reshape(x2,(2,2))\n",
        "x2_reshaped1"
      ],
      "metadata": {
        "colab": {
          "base_uri": "https://localhost:8080/"
        },
        "id": "5OL7L3nqI8YL",
        "outputId": "0321723d-ad1b-4e08-92b6-e22fdb221df5"
      },
      "execution_count": 196,
      "outputs": [
        {
          "output_type": "execute_result",
          "data": {
            "text/plain": [
              "tensor([[2, 4],\n",
              "        [6, 8]])"
            ]
          },
          "metadata": {},
          "execution_count": 196
        }
      ]
    },
    {
      "cell_type": "code",
      "source": [
        "x2_reshaped2 = torch.reshape(x2,(1,2,2))\n",
        "x2_reshaped2"
      ],
      "metadata": {
        "colab": {
          "base_uri": "https://localhost:8080/"
        },
        "id": "rhmTxpxJJkO0",
        "outputId": "af536601-e337-472a-c43b-88f484130458"
      },
      "execution_count": 197,
      "outputs": [
        {
          "output_type": "execute_result",
          "data": {
            "text/plain": [
              "tensor([[[2, 4]],\n",
              "\n",
              "        [[6, 8]]])"
            ]
          },
          "metadata": {},
          "execution_count": 197
        }
      ]
    },
    {
      "cell_type": "code",
      "source": [
        "x2_reshaped3 = torch.reshape(x2,(1,4))\n",
        "x2_reshaped3"
      ],
      "metadata": {
        "colab": {
          "base_uri": "https://localhost:8080/"
        },
        "id": "GLbehQAQJsT0",
        "outputId": "38d803d7-a4e4-43c5-b552-785311392ed8"
      },
      "execution_count": 199,
      "outputs": [
        {
          "output_type": "execute_result",
          "data": {
            "text/plain": [
              "tensor([[2, 4, 6, 8]])"
            ]
          },
          "metadata": {},
          "execution_count": 199
        }
      ]
    },
    {
      "cell_type": "code",
      "source": [
        "x2_stacked1dim0 = torch.stack([x2_reshaped1, x2_reshaped1, x2_reshaped1, x2_reshaped1 ],dim=0)\n",
        "x2_stacked1dim0"
      ],
      "metadata": {
        "colab": {
          "base_uri": "https://localhost:8080/"
        },
        "id": "qOnv4S3YNAow",
        "outputId": "076d2550-97f5-4372-9d3d-026db1674115"
      },
      "execution_count": 212,
      "outputs": [
        {
          "output_type": "execute_result",
          "data": {
            "text/plain": [
              "tensor([[[2, 4],\n",
              "         [6, 8]],\n",
              "\n",
              "        [[2, 4],\n",
              "         [6, 8]],\n",
              "\n",
              "        [[2, 4],\n",
              "         [6, 8]],\n",
              "\n",
              "        [[2, 4],\n",
              "         [6, 8]]])"
            ]
          },
          "metadata": {},
          "execution_count": 212
        }
      ]
    },
    {
      "cell_type": "code",
      "source": [
        "x2_stacked1dim1 = torch.stack([x2_reshaped1, x2_reshaped1, x2_reshaped1, x2_reshaped1 ],dim=1)\n",
        "x2_stacked1dim1"
      ],
      "metadata": {
        "colab": {
          "base_uri": "https://localhost:8080/"
        },
        "id": "CoGTma3FNYTk",
        "outputId": "ca40d751-35a7-418c-848a-1a5565e3026b"
      },
      "execution_count": 213,
      "outputs": [
        {
          "output_type": "execute_result",
          "data": {
            "text/plain": [
              "tensor([[[2, 4],\n",
              "         [2, 4],\n",
              "         [2, 4],\n",
              "         [2, 4]],\n",
              "\n",
              "        [[6, 8],\n",
              "         [6, 8],\n",
              "         [6, 8],\n",
              "         [6, 8]]])"
            ]
          },
          "metadata": {},
          "execution_count": 213
        }
      ]
    },
    {
      "cell_type": "code",
      "source": [
        "x2_stacked2 = torch.stack([x2_reshaped2, x2_reshaped2, x2_reshaped2, x2_reshaped2 ],dim=3)\n",
        "x2_stacked2"
      ],
      "metadata": {
        "colab": {
          "base_uri": "https://localhost:8080/"
        },
        "id": "qTNqgoCNAwHT",
        "outputId": "bc06ca28-b361-4257-ba87-00035590c05a"
      },
      "execution_count": 207,
      "outputs": [
        {
          "output_type": "execute_result",
          "data": {
            "text/plain": [
              "tensor([[[[2, 2, 2, 2],\n",
              "          [4, 4, 4, 4]]],\n",
              "\n",
              "\n",
              "        [[[6, 6, 6, 6],\n",
              "          [8, 8, 8, 8]]]])"
            ]
          },
          "metadata": {},
          "execution_count": 207
        }
      ]
    },
    {
      "cell_type": "code",
      "source": [
        "print(f\"original Tensor: {x2}\")\n",
        "print(f\"reshaped Tensor1: {x2_reshaped1}\")\n",
        "print(f\"reshaped Tensor2: {x2_reshaped2}\")\n",
        "print(f\"stacked tensor with reshaped Tensor2: {x2_stacked}\")\n",
        "print(f\"reshaped Tensor3: {x2_reshaped3}\")"
      ],
      "metadata": {
        "colab": {
          "base_uri": "https://localhost:8080/"
        },
        "id": "mx15C8dDLJhU",
        "outputId": "fb3f912b-4b33-43f1-9e95-c624c5f75a8d"
      },
      "execution_count": 208,
      "outputs": [
        {
          "output_type": "stream",
          "name": "stdout",
          "text": [
            "original Tensor: tensor([2, 4, 6, 8])\n",
            "reshaped Tensor1: tensor([[2, 4],\n",
            "        [6, 8]])\n",
            "reshaped Tensor2: tensor([[[2, 4]],\n",
            "\n",
            "        [[6, 8]]])\n",
            "stacked tensor with reshaped Tensor2: tensor([[[[2, 2, 2, 2],\n",
            "          [4, 4, 4, 4]]],\n",
            "\n",
            "\n",
            "        [[[6, 6, 6, 6],\n",
            "          [8, 8, 8, 8]]]])\n",
            "reshaped Tensor3: tensor([[2, 4, 6, 8]])\n"
          ]
        }
      ]
    },
    {
      "cell_type": "markdown",
      "source": [
        "Squeezing and unsqueezing tensors"
      ],
      "metadata": {
        "id": "VR-RMGh3Pxdp"
      }
    },
    {
      "cell_type": "code",
      "source": [
        "x2_reshaped1"
      ],
      "metadata": {
        "colab": {
          "base_uri": "https://localhost:8080/"
        },
        "id": "SLlVIVxmK0yx",
        "outputId": "fe1213fd-8755-4d6c-c4d4-34314914fa5a"
      },
      "execution_count": 214,
      "outputs": [
        {
          "output_type": "execute_result",
          "data": {
            "text/plain": [
              "tensor([[2, 4],\n",
              "        [6, 8]])"
            ]
          },
          "metadata": {},
          "execution_count": 214
        }
      ]
    },
    {
      "cell_type": "code",
      "source": [
        "x2_reshaped1.shape"
      ],
      "metadata": {
        "colab": {
          "base_uri": "https://localhost:8080/"
        },
        "id": "fISi9qp4QlBY",
        "outputId": "e6c36242-20f5-49f9-e1de-fb532fc28638"
      },
      "execution_count": 215,
      "outputs": [
        {
          "output_type": "execute_result",
          "data": {
            "text/plain": [
              "torch.Size([2, 2])"
            ]
          },
          "metadata": {},
          "execution_count": 215
        }
      ]
    },
    {
      "cell_type": "code",
      "source": [
        "x2_reshaped_again1 = torch.reshape(x2_reshaped1,(1,4))\n",
        "x2_reshaped_again1"
      ],
      "metadata": {
        "colab": {
          "base_uri": "https://localhost:8080/"
        },
        "id": "iwMMfBsLQq0p",
        "outputId": "4bb49afd-b027-432f-b8bf-5a4980d98ff8"
      },
      "execution_count": 228,
      "outputs": [
        {
          "output_type": "execute_result",
          "data": {
            "text/plain": [
              "tensor([[2, 4, 6, 8]])"
            ]
          },
          "metadata": {},
          "execution_count": 228
        }
      ]
    },
    {
      "cell_type": "code",
      "source": [
        "x2_reshaped_again2 = torch.reshape(x2_reshaped2,(4,1))\n",
        "x2_reshaped_again2"
      ],
      "metadata": {
        "colab": {
          "base_uri": "https://localhost:8080/"
        },
        "id": "9bavKIaZWiTB",
        "outputId": "8405982f-99bc-4ca8-85b1-86842e3c9ae6"
      },
      "execution_count": 231,
      "outputs": [
        {
          "output_type": "execute_result",
          "data": {
            "text/plain": [
              "tensor([[2],\n",
              "        [4],\n",
              "        [6],\n",
              "        [8]])"
            ]
          },
          "metadata": {},
          "execution_count": 231
        }
      ]
    },
    {
      "cell_type": "code",
      "source": [
        "x2squeezed1 = x2_reshaped_again1.squeeze()\n",
        "x2squeezed1.shape"
      ],
      "metadata": {
        "colab": {
          "base_uri": "https://localhost:8080/"
        },
        "id": "MQWTXC04XreJ",
        "outputId": "c6c9b1e3-4ce6-4c6e-8aca-0c1d57cadba9"
      },
      "execution_count": 235,
      "outputs": [
        {
          "output_type": "execute_result",
          "data": {
            "text/plain": [
              "torch.Size([4])"
            ]
          },
          "metadata": {},
          "execution_count": 235
        }
      ]
    },
    {
      "cell_type": "code",
      "source": [
        "x2squeezed2 = x2_reshaped_again2.squeeze()\n",
        "x2squeezed2.shape"
      ],
      "metadata": {
        "colab": {
          "base_uri": "https://localhost:8080/"
        },
        "id": "FJy1pFVKY2HE",
        "outputId": "b3ebda28-a43c-4f5a-efce-b2d00c9333f3"
      },
      "execution_count": 236,
      "outputs": [
        {
          "output_type": "execute_result",
          "data": {
            "text/plain": [
              "torch.Size([4])"
            ]
          },
          "metadata": {},
          "execution_count": 236
        }
      ]
    }
  ]
}