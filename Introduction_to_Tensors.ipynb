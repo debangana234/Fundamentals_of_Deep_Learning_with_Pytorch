{
  "nbformat": 4,
  "nbformat_minor": 0,
  "metadata": {
    "colab": {
      "provenance": []
    },
    "kernelspec": {
      "name": "python3",
      "display_name": "Python 3"
    },
    "language_info": {
      "name": "python"
    }
  },
  "cells": [
    {
      "cell_type": "code",
      "execution_count": 66,
      "metadata": {
        "id": "qFF_kdK_of7B"
      },
      "outputs": [],
      "source": [
        "import torch\n",
        "import pandas as pd\n",
        "import numpy as np\n",
        "import matplotlib.pyplot as plt"
      ]
    },
    {
      "cell_type": "markdown",
      "source": [
        "Introduction to tensors"
      ],
      "metadata": {
        "id": "XxZeEOIkp1h6"
      }
    },
    {
      "cell_type": "code",
      "source": [
        "scalar = torch.tensor(8)\n",
        "scalar"
      ],
      "metadata": {
        "colab": {
          "base_uri": "https://localhost:8080/"
        },
        "id": "Z0XbnuedqHOo",
        "outputId": "b124a71b-31a2-4b57-c674-0cd79489b30a"
      },
      "execution_count": 67,
      "outputs": [
        {
          "output_type": "execute_result",
          "data": {
            "text/plain": [
              "tensor(8)"
            ]
          },
          "metadata": {},
          "execution_count": 67
        }
      ]
    },
    {
      "cell_type": "code",
      "source": [
        "scalar.ndim\n",
        "scalar.item()"
      ],
      "metadata": {
        "colab": {
          "base_uri": "https://localhost:8080/"
        },
        "id": "QQO8Q6ANqdaA",
        "outputId": "0b82084d-29d2-4678-cd6c-fb3e943c9f6b"
      },
      "execution_count": 68,
      "outputs": [
        {
          "output_type": "execute_result",
          "data": {
            "text/plain": [
              "8"
            ]
          },
          "metadata": {},
          "execution_count": 68
        }
      ]
    },
    {
      "cell_type": "code",
      "source": [
        "vector = torch.tensor ([7,7])\n",
        "vector.ndim\n",
        "vector.shape"
      ],
      "metadata": {
        "colab": {
          "base_uri": "https://localhost:8080/"
        },
        "id": "lnftdZm8r2Xt",
        "outputId": "314c9fe9-d03c-4120-cc4f-3e1133ba788b"
      },
      "execution_count": 69,
      "outputs": [
        {
          "output_type": "execute_result",
          "data": {
            "text/plain": [
              "torch.Size([2])"
            ]
          },
          "metadata": {},
          "execution_count": 69
        }
      ]
    },
    {
      "cell_type": "code",
      "source": [
        "###creating matrix\n",
        "matrix = torch.tensor([[7,8],[9,0]])\n",
        "matrix.ndim\n"
      ],
      "metadata": {
        "colab": {
          "base_uri": "https://localhost:8080/"
        },
        "id": "w4wulTr1sNcK",
        "outputId": "a151d587-d9ea-45e3-c12e-d02edf8d5286"
      },
      "execution_count": 70,
      "outputs": [
        {
          "output_type": "execute_result",
          "data": {
            "text/plain": [
              "2"
            ]
          },
          "metadata": {},
          "execution_count": 70
        }
      ]
    },
    {
      "cell_type": "code",
      "source": [
        "matrix[0]"
      ],
      "metadata": {
        "colab": {
          "base_uri": "https://localhost:8080/"
        },
        "id": "xK4t3JqWsvq-",
        "outputId": "de9612e6-f4ca-48ce-dcfb-363086d03358"
      },
      "execution_count": 71,
      "outputs": [
        {
          "output_type": "execute_result",
          "data": {
            "text/plain": [
              "tensor([7, 8])"
            ]
          },
          "metadata": {},
          "execution_count": 71
        }
      ]
    },
    {
      "cell_type": "code",
      "source": [
        "matrix[1]"
      ],
      "metadata": {
        "colab": {
          "base_uri": "https://localhost:8080/"
        },
        "id": "zGfMYPiBt6Z6",
        "outputId": "6a34db6b-0f3c-4550-d0ae-6c824f36c3d5"
      },
      "execution_count": 72,
      "outputs": [
        {
          "output_type": "execute_result",
          "data": {
            "text/plain": [
              "tensor([9, 0])"
            ]
          },
          "metadata": {},
          "execution_count": 72
        }
      ]
    },
    {
      "cell_type": "markdown",
      "source": [],
      "metadata": {
        "id": "5h4wCA_Aufeg"
      }
    },
    {
      "cell_type": "code",
      "source": [
        "matrix.shape"
      ],
      "metadata": {
        "colab": {
          "base_uri": "https://localhost:8080/"
        },
        "id": "Zdlb3Bu_t9kw",
        "outputId": "77cd6638-6ba8-4605-8ab4-0d0dee2aaa7c"
      },
      "execution_count": 73,
      "outputs": [
        {
          "output_type": "execute_result",
          "data": {
            "text/plain": [
              "torch.Size([2, 2])"
            ]
          },
          "metadata": {},
          "execution_count": 73
        }
      ]
    },
    {
      "cell_type": "code",
      "source": [
        "####Tensors\n",
        "tensor = torch.tensor([[[7,8,7], [1,2,3], [4,5,6]]])\n",
        "tensor"
      ],
      "metadata": {
        "colab": {
          "base_uri": "https://localhost:8080/"
        },
        "id": "J7v3G3mXt9OB",
        "outputId": "58be65a1-42a1-4bd2-c519-98afe9f242ef"
      },
      "execution_count": 74,
      "outputs": [
        {
          "output_type": "execute_result",
          "data": {
            "text/plain": [
              "tensor([[[7, 8, 7],\n",
              "         [1, 2, 3],\n",
              "         [4, 5, 6]]])"
            ]
          },
          "metadata": {},
          "execution_count": 74
        }
      ]
    },
    {
      "cell_type": "code",
      "source": [
        "tensor.shape"
      ],
      "metadata": {
        "colab": {
          "base_uri": "https://localhost:8080/"
        },
        "id": "zizkUUueu8kQ",
        "outputId": "3c36a588-285b-4474-fbaf-39d124a8d478"
      },
      "execution_count": 75,
      "outputs": [
        {
          "output_type": "execute_result",
          "data": {
            "text/plain": [
              "torch.Size([1, 3, 3])"
            ]
          },
          "metadata": {},
          "execution_count": 75
        }
      ]
    },
    {
      "cell_type": "code",
      "source": [
        "tensor[0]"
      ],
      "metadata": {
        "colab": {
          "base_uri": "https://localhost:8080/"
        },
        "id": "oocriqmVvNTv",
        "outputId": "27d2a616-f5d9-47cd-bb9e-73cdff18f3c1"
      },
      "execution_count": 76,
      "outputs": [
        {
          "output_type": "execute_result",
          "data": {
            "text/plain": [
              "tensor([[7, 8, 7],\n",
              "        [1, 2, 3],\n",
              "        [4, 5, 6]])"
            ]
          },
          "metadata": {},
          "execution_count": 76
        }
      ]
    },
    {
      "cell_type": "code",
      "source": [
        "tensor[0,1,1]"
      ],
      "metadata": {
        "colab": {
          "base_uri": "https://localhost:8080/"
        },
        "id": "J83B39E9vPaa",
        "outputId": "49818b48-ee6d-47bc-f2be-55e571737f50"
      },
      "execution_count": 77,
      "outputs": [
        {
          "output_type": "execute_result",
          "data": {
            "text/plain": [
              "tensor(2)"
            ]
          },
          "metadata": {},
          "execution_count": 77
        }
      ]
    },
    {
      "cell_type": "code",
      "source": [
        "tensor[0,2,1]"
      ],
      "metadata": {
        "colab": {
          "base_uri": "https://localhost:8080/"
        },
        "id": "FsZehQMgwX5A",
        "outputId": "c59cae23-3fb1-4767-ebb7-dda4ba85efd3"
      },
      "execution_count": 78,
      "outputs": [
        {
          "output_type": "execute_result",
          "data": {
            "text/plain": [
              "tensor(5)"
            ]
          },
          "metadata": {},
          "execution_count": 78
        }
      ]
    },
    {
      "cell_type": "code",
      "source": [
        "tensor[0,0,1]"
      ],
      "metadata": {
        "colab": {
          "base_uri": "https://localhost:8080/"
        },
        "id": "MzlPviDzwpPV",
        "outputId": "56ca9dd8-8112-4a5a-d4ca-0b4315eabd78"
      },
      "execution_count": 79,
      "outputs": [
        {
          "output_type": "execute_result",
          "data": {
            "text/plain": [
              "tensor(8)"
            ]
          },
          "metadata": {},
          "execution_count": 79
        }
      ]
    },
    {
      "cell_type": "code",
      "source": [
        "tensor[0,2,2]"
      ],
      "metadata": {
        "colab": {
          "base_uri": "https://localhost:8080/"
        },
        "id": "yd71unRIwzCB",
        "outputId": "a9a6cee8-7900-4565-8f56-1c0d046893c5"
      },
      "execution_count": 80,
      "outputs": [
        {
          "output_type": "execute_result",
          "data": {
            "text/plain": [
              "tensor(6)"
            ]
          },
          "metadata": {},
          "execution_count": 80
        }
      ]
    },
    {
      "cell_type": "code",
      "source": [
        "###Random tensors\n",
        "random_tensor = torch.rand(3,4,3)"
      ],
      "metadata": {
        "id": "pSqWzWHjxtJk"
      },
      "execution_count": 81,
      "outputs": []
    },
    {
      "cell_type": "code",
      "source": [
        "random_tensor.shape"
      ],
      "metadata": {
        "colab": {
          "base_uri": "https://localhost:8080/"
        },
        "id": "d9kKN81LzHp2",
        "outputId": "3fc2d699-8ac4-4940-c52b-b3782f3f048f"
      },
      "execution_count": 82,
      "outputs": [
        {
          "output_type": "execute_result",
          "data": {
            "text/plain": [
              "torch.Size([3, 4, 3])"
            ]
          },
          "metadata": {},
          "execution_count": 82
        }
      ]
    },
    {
      "cell_type": "code",
      "source": [
        "random_tensor.ndim"
      ],
      "metadata": {
        "colab": {
          "base_uri": "https://localhost:8080/"
        },
        "id": "7u_khKQDzKOI",
        "outputId": "b8d78694-8393-4add-bbce-73aeb6c10d8d"
      },
      "execution_count": 83,
      "outputs": [
        {
          "output_type": "execute_result",
          "data": {
            "text/plain": [
              "3"
            ]
          },
          "metadata": {},
          "execution_count": 83
        }
      ]
    },
    {
      "cell_type": "code",
      "source": [
        "random_tensor"
      ],
      "metadata": {
        "colab": {
          "base_uri": "https://localhost:8080/"
        },
        "id": "QUlqOB8xzV3l",
        "outputId": "d43301df-fa4f-40df-b393-348392f56841"
      },
      "execution_count": 84,
      "outputs": [
        {
          "output_type": "execute_result",
          "data": {
            "text/plain": [
              "tensor([[[0.9904, 0.8168, 0.9700],\n",
              "         [0.8840, 0.9580, 0.5323],\n",
              "         [0.5515, 0.9258, 0.8616],\n",
              "         [0.3786, 0.2881, 0.8390]],\n",
              "\n",
              "        [[0.7760, 0.0369, 0.1463],\n",
              "         [0.7660, 0.3836, 0.7308],\n",
              "         [0.0356, 0.2544, 0.3249],\n",
              "         [0.5802, 0.7149, 0.4671]],\n",
              "\n",
              "        [[0.0237, 0.8444, 0.6934],\n",
              "         [0.8526, 0.4065, 0.8438],\n",
              "         [0.1916, 0.4846, 0.7119],\n",
              "         [0.1671, 0.6080, 0.9550]]])"
            ]
          },
          "metadata": {},
          "execution_count": 84
        }
      ]
    },
    {
      "cell_type": "code",
      "source": [
        "##Creating something similar to an image tensor\n",
        "random_image_tensor = torch.rand(224,224,3)\n",
        "random_image_tensor.shape , random_image_tensor.ndim"
      ],
      "metadata": {
        "colab": {
          "base_uri": "https://localhost:8080/"
        },
        "id": "6L0nuQ7vzoUp",
        "outputId": "a20e6532-f54e-4096-f67c-3af8042f2597"
      },
      "execution_count": 85,
      "outputs": [
        {
          "output_type": "execute_result",
          "data": {
            "text/plain": [
              "(torch.Size([224, 224, 3]), 3)"
            ]
          },
          "metadata": {},
          "execution_count": 85
        }
      ]
    },
    {
      "cell_type": "code",
      "source": [
        "torch_random = torch.rand(size=(3,2,3))"
      ],
      "metadata": {
        "id": "1-OaPRdI0URH"
      },
      "execution_count": 86,
      "outputs": []
    },
    {
      "cell_type": "code",
      "source": [
        "torch_random"
      ],
      "metadata": {
        "colab": {
          "base_uri": "https://localhost:8080/"
        },
        "id": "bJLxV59U06HY",
        "outputId": "1b66659d-50c3-443b-9ea5-1f14118b29d6"
      },
      "execution_count": 87,
      "outputs": [
        {
          "output_type": "execute_result",
          "data": {
            "text/plain": [
              "tensor([[[0.2774, 0.1441, 0.1475],\n",
              "         [0.8005, 0.0285, 0.2627]],\n",
              "\n",
              "        [[0.5755, 0.2412, 0.0417],\n",
              "         [0.8567, 0.0777, 0.4072]],\n",
              "\n",
              "        [[0.8619, 0.4475, 0.8653],\n",
              "         [0.1276, 0.2232, 0.0085]]])"
            ]
          },
          "metadata": {},
          "execution_count": 87
        }
      ]
    },
    {
      "cell_type": "code",
      "source": [
        "torch_random = torch.rand(size=(4,4,3))"
      ],
      "metadata": {
        "id": "c7cDh7UZ1EIx"
      },
      "execution_count": 88,
      "outputs": []
    },
    {
      "cell_type": "code",
      "source": [
        "torch_random"
      ],
      "metadata": {
        "colab": {
          "base_uri": "https://localhost:8080/"
        },
        "id": "ulZvM02Y1KQS",
        "outputId": "b9d79998-f2fa-4265-9e98-0973736c87a8"
      },
      "execution_count": 89,
      "outputs": [
        {
          "output_type": "execute_result",
          "data": {
            "text/plain": [
              "tensor([[[0.3106, 0.9629, 0.0099],\n",
              "         [0.4701, 0.4260, 0.2648],\n",
              "         [0.6099, 0.2539, 0.1904],\n",
              "         [0.7560, 0.5310, 0.4455]],\n",
              "\n",
              "        [[0.8313, 0.5446, 0.7774],\n",
              "         [0.8384, 0.2506, 0.0700],\n",
              "         [0.7953, 0.1338, 0.0425],\n",
              "         [0.3520, 0.9263, 0.8836]],\n",
              "\n",
              "        [[0.2712, 0.9948, 0.7710],\n",
              "         [0.2191, 0.3039, 0.7595],\n",
              "         [0.3610, 0.7610, 0.1561],\n",
              "         [0.3958, 0.7480, 0.5067]],\n",
              "\n",
              "        [[0.7603, 0.4370, 0.2122],\n",
              "         [0.0259, 0.4002, 0.8844],\n",
              "         [0.0596, 0.0671, 0.5652],\n",
              "         [0.2169, 0.6142, 0.2417]]])"
            ]
          },
          "metadata": {},
          "execution_count": 89
        }
      ]
    },
    {
      "cell_type": "code",
      "source": [
        "torch_random[1,3,2]"
      ],
      "metadata": {
        "colab": {
          "base_uri": "https://localhost:8080/"
        },
        "id": "w2kfBkcO1Ode",
        "outputId": "46dafbc0-68a3-4c41-b6d6-31c742c19385"
      },
      "execution_count": 90,
      "outputs": [
        {
          "output_type": "execute_result",
          "data": {
            "text/plain": [
              "tensor(0.8836)"
            ]
          },
          "metadata": {},
          "execution_count": 90
        }
      ]
    },
    {
      "cell_type": "code",
      "source": [
        "torch_random[3,0,1]"
      ],
      "metadata": {
        "colab": {
          "base_uri": "https://localhost:8080/"
        },
        "id": "rWe9uLpN1ei-",
        "outputId": "b619d7cb-3e25-4f38-b7c3-bb29a750cc24"
      },
      "execution_count": 91,
      "outputs": [
        {
          "output_type": "execute_result",
          "data": {
            "text/plain": [
              "tensor(0.4370)"
            ]
          },
          "metadata": {},
          "execution_count": 91
        }
      ]
    },
    {
      "cell_type": "code",
      "source": [
        "#Creating tensors with 0's and 1's\n",
        "zeroes = torch.zeros(size=(4,5))\n",
        "zeroes"
      ],
      "metadata": {
        "colab": {
          "base_uri": "https://localhost:8080/"
        },
        "id": "3tqJTy3s1u_S",
        "outputId": "9c82b4d0-a2c2-44d2-abb8-d711cfac854d"
      },
      "execution_count": 92,
      "outputs": [
        {
          "output_type": "execute_result",
          "data": {
            "text/plain": [
              "tensor([[0., 0., 0., 0., 0.],\n",
              "        [0., 0., 0., 0., 0.],\n",
              "        [0., 0., 0., 0., 0.],\n",
              "        [0., 0., 0., 0., 0.]])"
            ]
          },
          "metadata": {},
          "execution_count": 92
        }
      ]
    },
    {
      "cell_type": "markdown",
      "source": [
        "creating a range of tensors and tensors-like"
      ],
      "metadata": {
        "id": "e7C75VA12nuK"
      }
    },
    {
      "cell_type": "code",
      "source": [
        " range1 = torch.arange(start=1, end=12, step=2)\n",
        " range1"
      ],
      "metadata": {
        "colab": {
          "base_uri": "https://localhost:8080/"
        },
        "id": "CEleoXnT2rpc",
        "outputId": "4d3b1dab-f34e-4a3d-94b5-957b46bb07bc"
      },
      "execution_count": 93,
      "outputs": [
        {
          "output_type": "execute_result",
          "data": {
            "text/plain": [
              "tensor([ 1,  3,  5,  7,  9, 11])"
            ]
          },
          "metadata": {},
          "execution_count": 93
        }
      ]
    },
    {
      "cell_type": "code",
      "source": [
        "range1zeros = torch.zeros_like(range1)\n",
        "range1zeros"
      ],
      "metadata": {
        "colab": {
          "base_uri": "https://localhost:8080/"
        },
        "id": "O52e9J6s5BfM",
        "outputId": "73ebe496-d6da-4f63-932f-4b2abc5a3af1"
      },
      "execution_count": 94,
      "outputs": [
        {
          "output_type": "execute_result",
          "data": {
            "text/plain": [
              "tensor([0, 0, 0, 0, 0, 0])"
            ]
          },
          "metadata": {},
          "execution_count": 94
        }
      ]
    },
    {
      "cell_type": "code",
      "source": [
        "float_32_tensor = torch.tensor([3.0, 6.0, 9.0], dtype = torch.float16,\n",
        "                               device = 'cpu',\n",
        "                               requires_grad = False)"
      ],
      "metadata": {
        "id": "_uEwSmm_Hhgd"
      },
      "execution_count": 98,
      "outputs": []
    },
    {
      "cell_type": "code",
      "source": [
        "float2int_tensor = float_32_tensor.type(torch.int32)"
      ],
      "metadata": {
        "id": "Dp2wMNm5N5ty"
      },
      "execution_count": 105,
      "outputs": []
    },
    {
      "cell_type": "code",
      "source": [
        "###Directly convert the float_32_tensor to float_16_tensor\n",
        "\n",
        "float_16_tensor = float_32_tensor.type(torch.float16)\n",
        "float_16_tensor"
      ],
      "metadata": {
        "colab": {
          "base_uri": "https://localhost:8080/"
        },
        "id": "kL0VQqRjKEFc",
        "outputId": "5ea7ea27-eb20-4c8e-c309-44cb6b2564d5"
      },
      "execution_count": 99,
      "outputs": [
        {
          "output_type": "execute_result",
          "data": {
            "text/plain": [
              "tensor([3., 6., 9.], dtype=torch.float16)"
            ]
          },
          "metadata": {},
          "execution_count": 99
        }
      ]
    },
    {
      "cell_type": "code",
      "source": [
        "###Tensors of type integer\n",
        "\n",
        "int_tensor = torch.tensor([3, 5, 9], dtype = torch.uint32,\n",
        "                          device = 'cpu',\n",
        "                          requires_grad = False)"
      ],
      "metadata": {
        "id": "baG8tjpfL6B1"
      },
      "execution_count": 103,
      "outputs": []
    },
    {
      "cell_type": "code",
      "source": [
        "int2float_tensor = int_tensor.type(torch.float32)"
      ],
      "metadata": {
        "id": "sHCcdQ1HMAaW"
      },
      "execution_count": 104,
      "outputs": []
    },
    {
      "cell_type": "markdown",
      "source": [
        "Get some tensor details"
      ],
      "metadata": {
        "id": "5j3CEzv5QoJR"
      }
    },
    {
      "cell_type": "code",
      "source": [
        "print(int2float_tensor)"
      ],
      "metadata": {
        "colab": {
          "base_uri": "https://localhost:8080/"
        },
        "id": "ZJIQYU00QnSl",
        "outputId": "3083a561-99b8-4c25-d532-fe7ed66c958c"
      },
      "execution_count": 106,
      "outputs": [
        {
          "output_type": "stream",
          "name": "stdout",
          "text": [
            "tensor([3., 5., 9.])\n"
          ]
        }
      ]
    },
    {
      "cell_type": "code",
      "source": [
        "print(f\"tensor datatype: {int2float_tensor.dtype}\")"
      ],
      "metadata": {
        "colab": {
          "base_uri": "https://localhost:8080/"
        },
        "id": "SYv7aJniQt8V",
        "outputId": "2b564222-80c9-404f-ca4f-7d32e74321be"
      },
      "execution_count": 107,
      "outputs": [
        {
          "output_type": "stream",
          "name": "stdout",
          "text": [
            "tensor datatype: torch.float32\n"
          ]
        }
      ]
    },
    {
      "cell_type": "code",
      "source": [
        "print(f\"tensor shape: {int2float_tensor.shape}\")"
      ],
      "metadata": {
        "colab": {
          "base_uri": "https://localhost:8080/"
        },
        "id": "O8molHByQ5Qk",
        "outputId": "aa8b9f4c-31c5-46a2-ee37-8ec3434088fd"
      },
      "execution_count": 109,
      "outputs": [
        {
          "output_type": "stream",
          "name": "stdout",
          "text": [
            "tensor shape: torch.Size([3])\n"
          ]
        }
      ]
    },
    {
      "cell_type": "code",
      "source": [
        "print(f\"Device on which the tensor is running: {int2float_tensor.device}\")"
      ],
      "metadata": {
        "colab": {
          "base_uri": "https://localhost:8080/"
        },
        "id": "ZJIIsZP6RHCj",
        "outputId": "15bdf4bb-a65f-408f-8187-7c5a66a7b1f4"
      },
      "execution_count": 110,
      "outputs": [
        {
          "output_type": "stream",
          "name": "stdout",
          "text": [
            "Device on which the tensor is running: cpu\n"
          ]
        }
      ]
    },
    {
      "cell_type": "markdown",
      "source": [
        "Manipulation of tensors"
      ],
      "metadata": {
        "id": "f6kWiZVkRhZO"
      }
    },
    {
      "cell_type": "code",
      "source": [
        "tensor = torch.tensor([1,2,3])\n",
        "tensor + 10"
      ],
      "metadata": {
        "colab": {
          "base_uri": "https://localhost:8080/"
        },
        "id": "vxwq7KsWRgXO",
        "outputId": "848d8158-d8c5-48d8-b18e-b322a0ed6a04"
      },
      "execution_count": 112,
      "outputs": [
        {
          "output_type": "execute_result",
          "data": {
            "text/plain": [
              "tensor([11, 12, 13])"
            ]
          },
          "metadata": {},
          "execution_count": 112
        }
      ]
    },
    {
      "cell_type": "code",
      "source": [
        "##Matrix multiplication\n",
        "#Element-wise multiplication\n",
        "print(tensor, \"*\", tensor)\n",
        "print(f\"Equals: {tensor * tensor}\")"
      ],
      "metadata": {
        "colab": {
          "base_uri": "https://localhost:8080/"
        },
        "id": "FV0V78nhSxcg",
        "outputId": "385e8011-6434-4265-9207-077ec5dc0f07"
      },
      "execution_count": 119,
      "outputs": [
        {
          "output_type": "stream",
          "name": "stdout",
          "text": [
            "tensor([1, 2, 3]) * tensor([1, 2, 3])\n",
            "Equals: tensor([1, 4, 9])\n"
          ]
        }
      ]
    },
    {
      "cell_type": "code",
      "source": [
        "##Matrix multiplication(dot product)\n",
        "print (f\"1*1 + 2*2 + 3*3\")\n",
        "print (f\"Equals: {1*1 + 2*2 + 3*3}\")"
      ],
      "metadata": {
        "colab": {
          "base_uri": "https://localhost:8080/"
        },
        "id": "iwqZr8OvVn1u",
        "outputId": "88a78747-dcc6-4db0-b649-d24f37a233da"
      },
      "execution_count": 123,
      "outputs": [
        {
          "output_type": "stream",
          "name": "stdout",
          "text": [
            "1*1 + 2*2 + 3*3\n",
            "Equals: 14\n"
          ]
        }
      ]
    },
    {
      "cell_type": "code",
      "source": [
        "value = 0\n",
        "for i in range(len(tensor)):\n",
        "    value = value + (tensor[i]*tensor[i])\n",
        "print(value)"
      ],
      "metadata": {
        "colab": {
          "base_uri": "https://localhost:8080/"
        },
        "id": "0tw9kbmTa3Ul",
        "outputId": "67d9a2c5-1c80-4726-e5a2-262ac003d459"
      },
      "execution_count": 124,
      "outputs": [
        {
          "output_type": "stream",
          "name": "stdout",
          "text": [
            "tensor(14)\n"
          ]
        }
      ]
    },
    {
      "cell_type": "code",
      "source": [
        "torch.matmul(tensor,tensor)"
      ],
      "metadata": {
        "colab": {
          "base_uri": "https://localhost:8080/"
        },
        "id": "Dw50Ie4YbWhZ",
        "outputId": "cc64be25-1057-4992-dd1a-d3e4543cd224"
      },
      "execution_count": 125,
      "outputs": [
        {
          "output_type": "execute_result",
          "data": {
            "text/plain": [
              "tensor(14)"
            ]
          },
          "metadata": {},
          "execution_count": 125
        }
      ]
    },
    {
      "cell_type": "markdown",
      "source": [
        "one of the most common errors in deep learning are the shape errors"
      ],
      "metadata": {
        "id": "z_idQndJdBy_"
      }
    },
    {
      "cell_type": "code",
      "source": [
        "#Shapes for matrix multiplication\n",
        "tensor1 = torch.tensor([[1,2],[3,4],[5,6]])\n",
        "tensor1.shape\n"
      ],
      "metadata": {
        "colab": {
          "base_uri": "https://localhost:8080/"
        },
        "id": "ar9jrYzWdITQ",
        "outputId": "56bf772b-cea1-41e5-a9ae-20c16522086c"
      },
      "execution_count": 139,
      "outputs": [
        {
          "output_type": "execute_result",
          "data": {
            "text/plain": [
              "torch.Size([3, 2])"
            ]
          },
          "metadata": {},
          "execution_count": 139
        }
      ]
    },
    {
      "cell_type": "code",
      "source": [
        "tensor2 = torch.tensor([[7,8],[9,10],[11,12]])\n",
        "tensor2.shape"
      ],
      "metadata": {
        "colab": {
          "base_uri": "https://localhost:8080/"
        },
        "id": "Cx3mFvaIg8E4",
        "outputId": "86aa79c4-3924-4cee-ed91-925f0685c739"
      },
      "execution_count": 148,
      "outputs": [
        {
          "output_type": "execute_result",
          "data": {
            "text/plain": [
              "torch.Size([3, 2])"
            ]
          },
          "metadata": {},
          "execution_count": 148
        }
      ]
    },
    {
      "cell_type": "code",
      "source": [
        "tensor3 = torch.tensor([[7,8,9],[8,9,0]])\n",
        "tensor3.shape"
      ],
      "metadata": {
        "colab": {
          "base_uri": "https://localhost:8080/"
        },
        "id": "gEtpTD1-iki3",
        "outputId": "16d0a8df-3081-48cf-b995-74658578a49a"
      },
      "execution_count": 149,
      "outputs": [
        {
          "output_type": "execute_result",
          "data": {
            "text/plain": [
              "torch.Size([2, 3])"
            ]
          },
          "metadata": {},
          "execution_count": 149
        }
      ]
    },
    {
      "cell_type": "code",
      "source": [
        "result_tensor = torch.matmul(tensor1,tensor3)\n",
        "print(result_tensor)"
      ],
      "metadata": {
        "colab": {
          "base_uri": "https://localhost:8080/"
        },
        "id": "79t3bPCqhJCo",
        "outputId": "5f1fdf3c-1ccf-4d42-88ec-5374f5f27a15"
      },
      "execution_count": 150,
      "outputs": [
        {
          "output_type": "stream",
          "name": "stdout",
          "text": [
            "tensor([[23, 26,  9],\n",
            "        [53, 60, 27],\n",
            "        [83, 94, 45]])\n"
          ]
        }
      ]
    },
    {
      "cell_type": "code",
      "source": [
        "result_tensor.shape"
      ],
      "metadata": {
        "colab": {
          "base_uri": "https://localhost:8080/"
        },
        "id": "p46-tPnmk_C4",
        "outputId": "96391a75-7622-402b-b4ea-4ecc26add6d1"
      },
      "execution_count": 151,
      "outputs": [
        {
          "output_type": "execute_result",
          "data": {
            "text/plain": [
              "torch.Size([3, 3])"
            ]
          },
          "metadata": {},
          "execution_count": 151
        }
      ]
    },
    {
      "cell_type": "code",
      "source": [
        "tensor4 = torch.tensor([[7],[8]])\n",
        "tensor4.shape"
      ],
      "metadata": {
        "colab": {
          "base_uri": "https://localhost:8080/"
        },
        "id": "9MkW9ykUlBuJ",
        "outputId": "2fd23900-0b6d-40a7-cf93-3d2825e4048c"
      },
      "execution_count": 157,
      "outputs": [
        {
          "output_type": "execute_result",
          "data": {
            "text/plain": [
              "torch.Size([2, 1])"
            ]
          },
          "metadata": {},
          "execution_count": 157
        }
      ]
    },
    {
      "cell_type": "code",
      "source": [
        "result_tensor1 = torch.matmul(tensor1 , tensor4)\n",
        "print(result_tensor1)"
      ],
      "metadata": {
        "colab": {
          "base_uri": "https://localhost:8080/"
        },
        "id": "MnbVw2sVlkgl",
        "outputId": "3c048c1b-2299-4f4c-83a6-56b196d96f97"
      },
      "execution_count": 160,
      "outputs": [
        {
          "output_type": "stream",
          "name": "stdout",
          "text": [
            "tensor([[23],\n",
            "        [53],\n",
            "        [83]])\n"
          ]
        }
      ]
    },
    {
      "cell_type": "markdown",
      "source": [
        "#Adjusting tensor shape using transpose"
      ],
      "metadata": {
        "id": "SORCFIO4mvwI"
      }
    },
    {
      "cell_type": "code",
      "source": [
        "tensor2.T, tensor2"
      ],
      "metadata": {
        "colab": {
          "base_uri": "https://localhost:8080/"
        },
        "id": "4eo3Z8wcl5HY",
        "outputId": "6678e5e5-beb4-47e8-c247-9cb369f930d1"
      },
      "execution_count": 161,
      "outputs": [
        {
          "output_type": "execute_result",
          "data": {
            "text/plain": [
              "(tensor([[ 7,  9, 11],\n",
              "         [ 8, 10, 12]]),\n",
              " tensor([[ 7,  8],\n",
              "         [ 9, 10],\n",
              "         [11, 12]]))"
            ]
          },
          "metadata": {},
          "execution_count": 161
        }
      ]
    },
    {
      "cell_type": "code",
      "source": [
        "tensor2.T.shape, tensor2.shape"
      ],
      "metadata": {
        "colab": {
          "base_uri": "https://localhost:8080/"
        },
        "id": "3nmcWkcynTk9",
        "outputId": "20f64dd3-71ec-4bd1-f45a-498dde52201e"
      },
      "execution_count": 162,
      "outputs": [
        {
          "output_type": "execute_result",
          "data": {
            "text/plain": [
              "(torch.Size([2, 3]), torch.Size([3, 2]))"
            ]
          },
          "metadata": {},
          "execution_count": 162
        }
      ]
    },
    {
      "cell_type": "code",
      "source": [
        "result_tensor2 = torch.matmul(tensor2.T,tensor2)"
      ],
      "metadata": {
        "id": "ZpYQxkBZnWgj"
      },
      "execution_count": 164,
      "outputs": []
    },
    {
      "cell_type": "code",
      "source": [
        "result_tensor2.shape"
      ],
      "metadata": {
        "colab": {
          "base_uri": "https://localhost:8080/"
        },
        "id": "1yBVsbxooCes",
        "outputId": "72a62584-85ef-4cc1-8901-4f3e9bf28bf3"
      },
      "execution_count": 165,
      "outputs": [
        {
          "output_type": "execute_result",
          "data": {
            "text/plain": [
              "torch.Size([2, 2])"
            ]
          },
          "metadata": {},
          "execution_count": 165
        }
      ]
    }
  ]
}