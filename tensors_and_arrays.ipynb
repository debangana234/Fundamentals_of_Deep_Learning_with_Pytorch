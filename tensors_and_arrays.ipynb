{
 "cells": [
  {
   "cell_type": "code",
   "execution_count": 18,
   "metadata": {},
   "outputs": [],
   "source": [
    "import torch\n",
    "import pandas as pd\n",
    "import numpy as np"
   ]
  },
  {
   "cell_type": "code",
   "execution_count": 4,
   "metadata": {},
   "outputs": [
    {
     "name": "stdout",
     "output_type": "stream",
     "text": [
      "[[[1.0, 2.0], [3.0, 4.0]], [[5.0, 6.0], [7.0, 8.0]]]\n"
     ]
    }
   ],
   "source": [
    "###Indexing can be used to select data from tensors\n",
    "T_data = [[[1., 2.], [3., 4.]],\n",
    "          [[5., 6.], [7., 8.]]]\n",
    "print(T_data)"
   ]
  },
  {
   "cell_type": "code",
   "execution_count": 5,
   "metadata": {},
   "outputs": [
    {
     "name": "stdout",
     "output_type": "stream",
     "text": [
      "tensor([1, 2, 3, 4, 5, 6, 7, 8, 9])\n",
      "tensor([[[1, 2, 3],\n",
      "         [4, 5, 6],\n",
      "         [7, 8, 9]]])\n"
     ]
    }
   ],
   "source": [
    "x = torch.arange(1,10)\n",
    "print(x)\n",
    "y = x.reshape(1,3,3)\n",
    "print(y)"
   ]
  },
  {
   "cell_type": "code",
   "execution_count": 6,
   "metadata": {},
   "outputs": [
    {
     "name": "stdout",
     "output_type": "stream",
     "text": [
      "tensor([1, 2, 3])\n",
      "tensor([4, 5, 6])\n",
      "tensor([7, 8, 9])\n",
      "tensor(5)\n",
      "tensor(2)\n",
      "tensor(9)\n"
     ]
    }
   ],
   "source": [
    "###indexing the middle bracket\n",
    "print(y[0][0])\n",
    "print(y[0][1])\n",
    "print(y[0][2])\n",
    "print(y[0][1][1])\n",
    "print(y[0][0][1])\n",
    "print(y[0][2][2])"
   ]
  },
  {
   "cell_type": "code",
   "execution_count": 7,
   "metadata": {},
   "outputs": [
    {
     "name": "stdout",
     "output_type": "stream",
     "text": [
      "tensor([[2, 5, 8]])\n",
      "tensor([[3, 6, 9]])\n"
     ]
    }
   ],
   "source": [
    "###Get all values of 0th and 1st dimensions but only index 1 of 2nd dimension\n",
    "print(y[:,:,1])\n",
    "###Get all values of 0th and 1st dimensions but only index 2 of 2nd dimension\n",
    "print(y[:,:,2])"
   ]
  },
  {
   "cell_type": "code",
   "execution_count": 8,
   "metadata": {},
   "outputs": [
    {
     "name": "stdout",
     "output_type": "stream",
     "text": [
      "tensor([5])\n",
      "tensor([1, 2, 3])\n",
      "tensor([[3, 6, 9]])\n"
     ]
    }
   ],
   "source": [
    "###Get all values of 0th dimension but only 1 index value of 1st and 2nd dimension\n",
    "\n",
    "print(y[:,1,1])\n",
    "\n",
    "###Get index 0 of 0th and 1st dimension and all values of 2nd dimension\n",
    "\n",
    "print(y[0,0,:])\n",
    "\n",
    "###index on y to return [3,6,9]\n",
    "print(y[:,:,2])"
   ]
  },
  {
   "cell_type": "code",
   "execution_count": 14,
   "metadata": {},
   "outputs": [
    {
     "data": {
      "text/plain": [
       "tensor([[0.5882, 0.5921, 0.8325],\n",
       "        [0.2794, 0.3559, 0.0711],\n",
       "        [0.3311, 0.2467, 0.5917]])"
      ]
     },
     "execution_count": 14,
     "metadata": {},
     "output_type": "execute_result"
    }
   ],
   "source": [
    "###Pytorch reproducibility (trying to take random out of random)\n",
    "torch.rand(3,3)\n"
   ]
  },
  {
   "cell_type": "code",
   "execution_count": 26,
   "metadata": {},
   "outputs": [
    {
     "name": "stdout",
     "output_type": "stream",
     "text": [
      "tensor([[0.8823, 0.9150, 0.3829, 0.9593],\n",
      "        [0.3904, 0.6009, 0.2566, 0.7936],\n",
      "        [0.9408, 0.1332, 0.9346, 0.5936]])\n",
      "tensor([[0.8823, 0.9150, 0.3829, 0.9593],\n",
      "        [0.3904, 0.6009, 0.2566, 0.7936],\n",
      "        [0.9408, 0.1332, 0.9346, 0.5936]])\n",
      "tensor([[True, True, True, True],\n",
      "        [True, True, True, True],\n",
      "        [True, True, True, True]])\n"
     ]
    }
   ],
   "source": [
    "###Random and reproducible tensors\n",
    "random_seed = 42\n",
    "torch.manual_seed(random_seed)\n",
    "random_tensorA = torch.rand(3,4)\n",
    "\n",
    "torch.manual_seed(random_seed)\n",
    "random_tensorB = torch.rand(3,4)\n",
    "\n",
    "print(random_tensorA)\n",
    "print(random_tensorB)\n",
    "print(random_tensorA == random_tensorB)"
   ]
  }
 ],
 "metadata": {
  "kernelspec": {
   "display_name": "pytorch",
   "language": "python",
   "name": "python3"
  },
  "language_info": {
   "codemirror_mode": {
    "name": "ipython",
    "version": 3
   },
   "file_extension": ".py",
   "mimetype": "text/x-python",
   "name": "python",
   "nbconvert_exporter": "python",
   "pygments_lexer": "ipython3",
   "version": "3.11.13"
  }
 },
 "nbformat": 4,
 "nbformat_minor": 2
}
